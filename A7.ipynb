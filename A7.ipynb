{
  "cells": [
    {
      "cell_type": "code",
      "execution_count": null,
      "id": "0e00cb6e-f7c4-49bc-b314-b4708699ba9d",
      "metadata": {
        "id": "0e00cb6e-f7c4-49bc-b314-b4708699ba9d"
      },
      "outputs": [],
      "source": [
        "import pandas as pd\n",
        "import matplotlib.pyplot as plt\n",
        "from sklearn import preprocessing\n",
        "from scipy import stats\n",
        "from sklearn.preprocessing import MinMaxScaler\n",
        "from sklearn.model_selection import train_test_split\n",
        "from sklearn import tree\n",
        "from sklearn.metrics import classification_report\n",
        "from sklearn.metrics import confusion_matrix\n",
        "import seaborn as sns\n",
        "\n"
      ]
    },
    {
      "cell_type": "code",
      "execution_count": null,
      "id": "a822ee57-ea72-4a41-b158-6f14af01f361",
      "metadata": {
        "id": "a822ee57-ea72-4a41-b158-6f14af01f361",
        "outputId": "54d4ab1a-992b-4e7e-de04-037da92ce5e7"
      },
      "outputs": [
        {
          "data": {
            "text/html": [
              "<div>\n",
              "<style scoped>\n",
              "    .dataframe tbody tr th:only-of-type {\n",
              "        vertical-align: middle;\n",
              "    }\n",
              "\n",
              "    .dataframe tbody tr th {\n",
              "        vertical-align: top;\n",
              "    }\n",
              "\n",
              "    .dataframe thead th {\n",
              "        text-align: right;\n",
              "    }\n",
              "</style>\n",
              "<table border=\"1\" class=\"dataframe\">\n",
              "  <thead>\n",
              "    <tr style=\"text-align: right;\">\n",
              "      <th></th>\n",
              "      <th>gender</th>\n",
              "      <th>age</th>\n",
              "      <th>hypertension</th>\n",
              "      <th>heart_disease</th>\n",
              "      <th>smoking_history</th>\n",
              "      <th>bmi</th>\n",
              "      <th>HbA1c_level</th>\n",
              "      <th>blood_glucose_level</th>\n",
              "      <th>diabetes</th>\n",
              "    </tr>\n",
              "  </thead>\n",
              "  <tbody>\n",
              "    <tr>\n",
              "      <th>0</th>\n",
              "      <td>Female</td>\n",
              "      <td>80.0</td>\n",
              "      <td>0</td>\n",
              "      <td>1</td>\n",
              "      <td>never</td>\n",
              "      <td>25.19</td>\n",
              "      <td>6.6</td>\n",
              "      <td>140</td>\n",
              "      <td>0</td>\n",
              "    </tr>\n",
              "    <tr>\n",
              "      <th>1</th>\n",
              "      <td>Female</td>\n",
              "      <td>54.0</td>\n",
              "      <td>0</td>\n",
              "      <td>0</td>\n",
              "      <td>No Info</td>\n",
              "      <td>27.32</td>\n",
              "      <td>6.6</td>\n",
              "      <td>80</td>\n",
              "      <td>0</td>\n",
              "    </tr>\n",
              "    <tr>\n",
              "      <th>2</th>\n",
              "      <td>Male</td>\n",
              "      <td>28.0</td>\n",
              "      <td>0</td>\n",
              "      <td>0</td>\n",
              "      <td>never</td>\n",
              "      <td>27.32</td>\n",
              "      <td>5.7</td>\n",
              "      <td>158</td>\n",
              "      <td>0</td>\n",
              "    </tr>\n",
              "    <tr>\n",
              "      <th>3</th>\n",
              "      <td>Female</td>\n",
              "      <td>36.0</td>\n",
              "      <td>0</td>\n",
              "      <td>0</td>\n",
              "      <td>current</td>\n",
              "      <td>23.45</td>\n",
              "      <td>5.0</td>\n",
              "      <td>155</td>\n",
              "      <td>0</td>\n",
              "    </tr>\n",
              "    <tr>\n",
              "      <th>4</th>\n",
              "      <td>Male</td>\n",
              "      <td>76.0</td>\n",
              "      <td>1</td>\n",
              "      <td>1</td>\n",
              "      <td>current</td>\n",
              "      <td>20.14</td>\n",
              "      <td>4.8</td>\n",
              "      <td>155</td>\n",
              "      <td>0</td>\n",
              "    </tr>\n",
              "  </tbody>\n",
              "</table>\n",
              "</div>"
            ],
            "text/plain": [
              "   gender   age  hypertension  heart_disease smoking_history    bmi  \\\n",
              "0  Female  80.0             0              1           never  25.19   \n",
              "1  Female  54.0             0              0         No Info  27.32   \n",
              "2    Male  28.0             0              0           never  27.32   \n",
              "3  Female  36.0             0              0         current  23.45   \n",
              "4    Male  76.0             1              1         current  20.14   \n",
              "\n",
              "   HbA1c_level  blood_glucose_level  diabetes  \n",
              "0          6.6                  140         0  \n",
              "1          6.6                   80         0  \n",
              "2          5.7                  158         0  \n",
              "3          5.0                  155         0  \n",
              "4          4.8                  155         0  "
            ]
          },
          "execution_count": 2,
          "metadata": {},
          "output_type": "execute_result"
        }
      ],
      "source": [
        "data=pd.read_csv(\"/home/mllab1/Desktop/diabetes/diabetes.csv\")\n",
        "data.head()"
      ]
    },
    {
      "cell_type": "code",
      "execution_count": null,
      "id": "1da9a05b-de6b-4159-83ca-7da1d711e140",
      "metadata": {
        "id": "1da9a05b-de6b-4159-83ca-7da1d711e140",
        "outputId": "57e74a71-b35d-4230-b453-ac1290ce6d04"
      },
      "outputs": [
        {
          "data": {
            "text/html": [
              "<div>\n",
              "<style scoped>\n",
              "    .dataframe tbody tr th:only-of-type {\n",
              "        vertical-align: middle;\n",
              "    }\n",
              "\n",
              "    .dataframe tbody tr th {\n",
              "        vertical-align: top;\n",
              "    }\n",
              "\n",
              "    .dataframe thead th {\n",
              "        text-align: right;\n",
              "    }\n",
              "</style>\n",
              "<table border=\"1\" class=\"dataframe\">\n",
              "  <thead>\n",
              "    <tr style=\"text-align: right;\">\n",
              "      <th></th>\n",
              "      <th>age</th>\n",
              "      <th>hypertension</th>\n",
              "      <th>heart_disease</th>\n",
              "      <th>bmi</th>\n",
              "      <th>HbA1c_level</th>\n",
              "      <th>blood_glucose_level</th>\n",
              "      <th>diabetes</th>\n",
              "    </tr>\n",
              "  </thead>\n",
              "  <tbody>\n",
              "    <tr>\n",
              "      <th>count</th>\n",
              "      <td>100000.000000</td>\n",
              "      <td>100000.00000</td>\n",
              "      <td>100000.000000</td>\n",
              "      <td>100000.000000</td>\n",
              "      <td>100000.000000</td>\n",
              "      <td>100000.000000</td>\n",
              "      <td>100000.000000</td>\n",
              "    </tr>\n",
              "    <tr>\n",
              "      <th>mean</th>\n",
              "      <td>41.885856</td>\n",
              "      <td>0.07485</td>\n",
              "      <td>0.039420</td>\n",
              "      <td>27.320767</td>\n",
              "      <td>5.527507</td>\n",
              "      <td>138.058060</td>\n",
              "      <td>0.085000</td>\n",
              "    </tr>\n",
              "    <tr>\n",
              "      <th>std</th>\n",
              "      <td>22.516840</td>\n",
              "      <td>0.26315</td>\n",
              "      <td>0.194593</td>\n",
              "      <td>6.636783</td>\n",
              "      <td>1.070672</td>\n",
              "      <td>40.708136</td>\n",
              "      <td>0.278883</td>\n",
              "    </tr>\n",
              "    <tr>\n",
              "      <th>min</th>\n",
              "      <td>0.080000</td>\n",
              "      <td>0.00000</td>\n",
              "      <td>0.000000</td>\n",
              "      <td>10.010000</td>\n",
              "      <td>3.500000</td>\n",
              "      <td>80.000000</td>\n",
              "      <td>0.000000</td>\n",
              "    </tr>\n",
              "    <tr>\n",
              "      <th>25%</th>\n",
              "      <td>24.000000</td>\n",
              "      <td>0.00000</td>\n",
              "      <td>0.000000</td>\n",
              "      <td>23.630000</td>\n",
              "      <td>4.800000</td>\n",
              "      <td>100.000000</td>\n",
              "      <td>0.000000</td>\n",
              "    </tr>\n",
              "    <tr>\n",
              "      <th>50%</th>\n",
              "      <td>43.000000</td>\n",
              "      <td>0.00000</td>\n",
              "      <td>0.000000</td>\n",
              "      <td>27.320000</td>\n",
              "      <td>5.800000</td>\n",
              "      <td>140.000000</td>\n",
              "      <td>0.000000</td>\n",
              "    </tr>\n",
              "    <tr>\n",
              "      <th>75%</th>\n",
              "      <td>60.000000</td>\n",
              "      <td>0.00000</td>\n",
              "      <td>0.000000</td>\n",
              "      <td>29.580000</td>\n",
              "      <td>6.200000</td>\n",
              "      <td>159.000000</td>\n",
              "      <td>0.000000</td>\n",
              "    </tr>\n",
              "    <tr>\n",
              "      <th>max</th>\n",
              "      <td>80.000000</td>\n",
              "      <td>1.00000</td>\n",
              "      <td>1.000000</td>\n",
              "      <td>95.690000</td>\n",
              "      <td>9.000000</td>\n",
              "      <td>300.000000</td>\n",
              "      <td>1.000000</td>\n",
              "    </tr>\n",
              "  </tbody>\n",
              "</table>\n",
              "</div>"
            ],
            "text/plain": [
              "                 age  hypertension  heart_disease            bmi  \\\n",
              "count  100000.000000  100000.00000  100000.000000  100000.000000   \n",
              "mean       41.885856       0.07485       0.039420      27.320767   \n",
              "std        22.516840       0.26315       0.194593       6.636783   \n",
              "min         0.080000       0.00000       0.000000      10.010000   \n",
              "25%        24.000000       0.00000       0.000000      23.630000   \n",
              "50%        43.000000       0.00000       0.000000      27.320000   \n",
              "75%        60.000000       0.00000       0.000000      29.580000   \n",
              "max        80.000000       1.00000       1.000000      95.690000   \n",
              "\n",
              "         HbA1c_level  blood_glucose_level       diabetes  \n",
              "count  100000.000000        100000.000000  100000.000000  \n",
              "mean        5.527507           138.058060       0.085000  \n",
              "std         1.070672            40.708136       0.278883  \n",
              "min         3.500000            80.000000       0.000000  \n",
              "25%         4.800000           100.000000       0.000000  \n",
              "50%         5.800000           140.000000       0.000000  \n",
              "75%         6.200000           159.000000       0.000000  \n",
              "max         9.000000           300.000000       1.000000  "
            ]
          },
          "execution_count": 3,
          "metadata": {},
          "output_type": "execute_result"
        }
      ],
      "source": [
        "data.describe()\n"
      ]
    },
    {
      "cell_type": "code",
      "execution_count": null,
      "id": "f8478c92-a70b-455f-bc7b-b0f6e70db304",
      "metadata": {
        "id": "f8478c92-a70b-455f-bc7b-b0f6e70db304",
        "outputId": "76e5a49d-8777-4d81-af44-9ab3a62abde8"
      },
      "outputs": [
        {
          "name": "stdout",
          "output_type": "stream",
          "text": [
            "<class 'pandas.core.frame.DataFrame'>\n",
            "RangeIndex: 100000 entries, 0 to 99999\n",
            "Data columns (total 9 columns):\n",
            " #   Column               Non-Null Count   Dtype  \n",
            "---  ------               --------------   -----  \n",
            " 0   gender               100000 non-null  object \n",
            " 1   age                  100000 non-null  float64\n",
            " 2   hypertension         100000 non-null  int64  \n",
            " 3   heart_disease        100000 non-null  int64  \n",
            " 4   smoking_history      100000 non-null  object \n",
            " 5   bmi                  100000 non-null  float64\n",
            " 6   HbA1c_level          100000 non-null  float64\n",
            " 7   blood_glucose_level  100000 non-null  int64  \n",
            " 8   diabetes             100000 non-null  int64  \n",
            "dtypes: float64(3), int64(4), object(2)\n",
            "memory usage: 6.9+ MB\n"
          ]
        }
      ],
      "source": [
        "data.info()"
      ]
    },
    {
      "cell_type": "code",
      "execution_count": null,
      "id": "28be4d22-541c-4b97-8f49-f12b0038467b",
      "metadata": {
        "id": "28be4d22-541c-4b97-8f49-f12b0038467b",
        "outputId": "2e64f358-e44b-4cf0-e03b-09b3099f4e23"
      },
      "outputs": [
        {
          "name": "stdout",
          "output_type": "stream",
          "text": [
            "Number of rows: 100000\n",
            "Number of columns: 9\n"
          ]
        }
      ],
      "source": [
        "#Find number of rows and columns\n",
        "\n",
        "num_rows, num_columns = data.shape\n",
        "\n",
        "print(\"Number of rows:\", num_rows)\n",
        "print(\"Number of columns:\", num_columns)\n",
        "\n"
      ]
    },
    {
      "cell_type": "code",
      "execution_count": null,
      "id": "8a59b615-49d5-473d-ba84-80d89fd9780f",
      "metadata": {
        "id": "8a59b615-49d5-473d-ba84-80d89fd9780f",
        "outputId": "eea14741-d491-45e3-9c06-df90bb836a29"
      },
      "outputs": [
        {
          "data": {
            "text/plain": [
              "diabetes\n",
              "0    91500\n",
              "1     8500\n",
              "Name: count, dtype: int64"
            ]
          },
          "execution_count": 6,
          "metadata": {},
          "output_type": "execute_result"
        }
      ],
      "source": [
        "#Distribution\n",
        "data['diabetes'].value_counts()"
      ]
    },
    {
      "cell_type": "code",
      "execution_count": null,
      "id": "d8942bf9-b919-4bef-850d-05d80c28abfc",
      "metadata": {
        "id": "d8942bf9-b919-4bef-850d-05d80c28abfc",
        "outputId": "b590f061-a087-4dbc-b416-098c8f99ab7f"
      },
      "outputs": [
        {
          "data": {
            "image/png": "[encoded data removed]",
            "text/plain": [
              "<Figure size 640x480 with 1 Axes>"
            ]
          },
          "metadata": {},
          "output_type": "display_data"
        }
      ],
      "source": [
        "plt.pie(data['diabetes'].value_counts(), colors=['red','yellow'], labels = ['non-diabetic', 'diabetic'], autopct = '%1.1f%%')\n",
        "#autopct='%1.1f%%' formats the numeric values displayed on the pie chart to show one decimal place followed by a percentage sign. This means each segment of the pie chart will display the percentage of the whole.\n",
        "plt.title(\"Distribution of diabetics in dataset\")\n",
        "plt.show()\n"
      ]
    },
    {
      "cell_type": "code",
      "execution_count": null,
      "id": "26aabf5d-9bd9-43a8-af72-da9faea7d3a7",
      "metadata": {
        "id": "26aabf5d-9bd9-43a8-af72-da9faea7d3a7",
        "outputId": "5141a8ad-2248-4383-ce29-af59fca343e3"
      },
      "outputs": [
        {
          "data": {
            "text/plain": [
              "gender                 0\n",
              "age                    0\n",
              "hypertension           0\n",
              "heart_disease          0\n",
              "smoking_history        0\n",
              "bmi                    0\n",
              "HbA1c_level            0\n",
              "blood_glucose_level    0\n",
              "diabetes               0\n",
              "dtype: int64"
            ]
          },
          "execution_count": 8,
          "metadata": {},
          "output_type": "execute_result"
        }
      ],
      "source": [
        "missing_values=data.isnull().sum()\n",
        "missing_values"
      ]
    },
    {
      "cell_type": "code",
      "execution_count": null,
      "id": "134c6a42-3447-4de0-b66e-e2e2be672a0f",
      "metadata": {
        "id": "134c6a42-3447-4de0-b66e-e2e2be672a0f",
        "outputId": "b6d465e0-00cb-40e2-baa3-0c95290d481f"
      },
      "outputs": [
        {
          "data": {
            "text/html": [
              "<div>\n",
              "<style scoped>\n",
              "    .dataframe tbody tr th:only-of-type {\n",
              "        vertical-align: middle;\n",
              "    }\n",
              "\n",
              "    .dataframe tbody tr th {\n",
              "        vertical-align: top;\n",
              "    }\n",
              "\n",
              "    .dataframe thead th {\n",
              "        text-align: right;\n",
              "    }\n",
              "</style>\n",
              "<table border=\"1\" class=\"dataframe\">\n",
              "  <thead>\n",
              "    <tr style=\"text-align: right;\">\n",
              "      <th></th>\n",
              "      <th>gender</th>\n",
              "      <th>age</th>\n",
              "      <th>hypertension</th>\n",
              "      <th>heart_disease</th>\n",
              "      <th>smoking_history</th>\n",
              "      <th>bmi</th>\n",
              "      <th>HbA1c_level</th>\n",
              "      <th>blood_glucose_level</th>\n",
              "      <th>diabetes</th>\n",
              "    </tr>\n",
              "  </thead>\n",
              "  <tbody>\n",
              "    <tr>\n",
              "      <th>0</th>\n",
              "      <td>0</td>\n",
              "      <td>80.0</td>\n",
              "      <td>0</td>\n",
              "      <td>1</td>\n",
              "      <td>4</td>\n",
              "      <td>25.19</td>\n",
              "      <td>6.6</td>\n",
              "      <td>140</td>\n",
              "      <td>0</td>\n",
              "    </tr>\n",
              "    <tr>\n",
              "      <th>1</th>\n",
              "      <td>0</td>\n",
              "      <td>54.0</td>\n",
              "      <td>0</td>\n",
              "      <td>0</td>\n",
              "      <td>0</td>\n",
              "      <td>27.32</td>\n",
              "      <td>6.6</td>\n",
              "      <td>80</td>\n",
              "      <td>0</td>\n",
              "    </tr>\n",
              "    <tr>\n",
              "      <th>2</th>\n",
              "      <td>1</td>\n",
              "      <td>28.0</td>\n",
              "      <td>0</td>\n",
              "      <td>0</td>\n",
              "      <td>4</td>\n",
              "      <td>27.32</td>\n",
              "      <td>5.7</td>\n",
              "      <td>158</td>\n",
              "      <td>0</td>\n",
              "    </tr>\n",
              "    <tr>\n",
              "      <th>3</th>\n",
              "      <td>0</td>\n",
              "      <td>36.0</td>\n",
              "      <td>0</td>\n",
              "      <td>0</td>\n",
              "      <td>1</td>\n",
              "      <td>23.45</td>\n",
              "      <td>5.0</td>\n",
              "      <td>155</td>\n",
              "      <td>0</td>\n",
              "    </tr>\n",
              "    <tr>\n",
              "      <th>4</th>\n",
              "      <td>1</td>\n",
              "      <td>76.0</td>\n",
              "      <td>1</td>\n",
              "      <td>1</td>\n",
              "      <td>1</td>\n",
              "      <td>20.14</td>\n",
              "      <td>4.8</td>\n",
              "      <td>155</td>\n",
              "      <td>0</td>\n",
              "    </tr>\n",
              "  </tbody>\n",
              "</table>\n",
              "</div>"
            ],
            "text/plain": [
              "   gender   age  hypertension  heart_disease  smoking_history    bmi  \\\n",
              "0       0  80.0             0              1                4  25.19   \n",
              "1       0  54.0             0              0                0  27.32   \n",
              "2       1  28.0             0              0                4  27.32   \n",
              "3       0  36.0             0              0                1  23.45   \n",
              "4       1  76.0             1              1                1  20.14   \n",
              "\n",
              "   HbA1c_level  blood_glucose_level  diabetes  \n",
              "0          6.6                  140         0  \n",
              "1          6.6                   80         0  \n",
              "2          5.7                  158         0  \n",
              "3          5.0                  155         0  \n",
              "4          4.8                  155         0  "
            ]
          },
          "execution_count": 9,
          "metadata": {},
          "output_type": "execute_result"
        }
      ],
      "source": [
        "#Convert Categorical variables into binary and numeric\n",
        "label_encoder = preprocessing.LabelEncoder()\n",
        "data['smoking_history'] = label_encoder.fit_transform(data['smoking_history'])\n",
        "data['gender'] = label_encoder.fit_transform(data['gender'])\n",
        "data.head()\n",
        "\n"
      ]
    },
    {
      "cell_type": "code",
      "execution_count": null,
      "id": "32c3115c-9cae-4993-8af8-c15b7a3427aa",
      "metadata": {
        "id": "32c3115c-9cae-4993-8af8-c15b7a3427aa",
        "outputId": "de2cf3c0-aa9c-42bd-940b-d23c0b9c8a4e"
      },
      "outputs": [
        {
          "name": "stdout",
          "output_type": "stream",
          "text": [
            "       gender   age  hypertension  heart_disease  smoking_history    bmi  \\\n",
            "0           0  80.0             0              1                4  25.19   \n",
            "1           0  54.0             0              0                0  27.32   \n",
            "2           1  28.0             0              0                4  27.32   \n",
            "3           0  36.0             0              0                1  23.45   \n",
            "4           1  76.0             1              1                1  20.14   \n",
            "...       ...   ...           ...            ...              ...    ...   \n",
            "99995       0  80.0             0              0                0  27.32   \n",
            "99996       0   2.0             0              0                0  17.37   \n",
            "99997       1  66.0             0              0                3  27.83   \n",
            "99998       0  24.0             0              0                4  35.42   \n",
            "99999       0  57.0             0              0                1  22.43   \n",
            "\n",
            "       HbA1c_level  blood_glucose_level  diabetes  \n",
            "0              6.6                  140         0  \n",
            "1              6.6                   80         0  \n",
            "2              5.7                  158         0  \n",
            "3              5.0                  155         0  \n",
            "4              4.8                  155         0  \n",
            "...            ...                  ...       ...  \n",
            "99995          6.2                   90         0  \n",
            "99996          6.5                  100         0  \n",
            "99997          5.7                  155         0  \n",
            "99998          4.0                  100         0  \n",
            "99999          6.6                   90         0  \n",
            "\n",
            "[100000 rows x 9 columns]\n"
          ]
        }
      ],
      "source": [
        "numeric_data = data.select_dtypes(include='number')\n",
        "print(numeric_data)\n"
      ]
    },
    {
      "cell_type": "code",
      "execution_count": null,
      "id": "c1125e25-8e42-43f7-8f0c-2346d18752ea",
      "metadata": {
        "id": "c1125e25-8e42-43f7-8f0c-2346d18752ea"
      },
      "outputs": [],
      "source": [
        "# Selecting the numerical columns (excluding binary columns for hypertension, heart_disease, diabetes)\n",
        "numerical_columns = ['age', 'bmi', 'HbA1c_level','smoking_history', 'blood_glucose_level']"
      ]
    },
    {
      "cell_type": "code",
      "execution_count": null,
      "id": "8d46244e-8c06-48c8-b41a-8fcaef046db0",
      "metadata": {
        "id": "8d46244e-8c06-48c8-b41a-8fcaef046db0",
        "outputId": "21ead6f9-3fcf-43a8-a00e-fb8eacba9256"
      },
      "outputs": [
        {
          "name": "stdout",
          "output_type": "stream",
          "text": [
            "            age       bmi  HbA1c_level  smoking_history  blood_glucose_level\n",
            "0      1.692704 -0.321056     1.001706         0.963327             0.047704\n",
            "1      0.538006 -0.000116     1.001706        -1.153468            -1.426210\n",
            "2     -0.616691 -0.000116     0.161108         0.963327             0.489878\n",
            "3     -0.261399 -0.583232    -0.492690        -0.624269             0.416183\n",
            "4      1.515058 -1.081970    -0.679490        -0.624269             0.416183\n",
            "...         ...       ...          ...              ...                  ...\n",
            "99995  1.692704 -0.000116     0.628107        -1.153468            -1.180558\n",
            "99996 -1.771388 -1.499343     0.908306        -1.153468            -0.934905\n",
            "99997  1.070944  0.076729     0.161108         0.434128             0.416183\n",
            "99998 -0.794336  1.220361    -1.426688         0.963327            -0.934905\n",
            "99999  0.671241 -0.736922     1.001706        -0.624269            -1.180558\n",
            "\n",
            "[100000 rows x 5 columns]\n"
          ]
        }
      ],
      "source": [
        "# Calculate Z-scores for numeric columns\n",
        "z_scores = data[numerical_columns].apply(stats.zscore)\n",
        "\n",
        "print(z_scores)"
      ]
    },
    {
      "cell_type": "code",
      "execution_count": null,
      "id": "1efbad19-47f8-4765-8647-d9a38434822a",
      "metadata": {
        "id": "1efbad19-47f8-4765-8647-d9a38434822a",
        "outputId": "e0e669ed-ecf1-4567-a370-2b9fef491b9c"
      },
      "outputs": [
        {
          "name": "stdout",
          "output_type": "stream",
          "text": [
            "       gender  age  hypertension  heart_disease  smoking_history  bmi  \\\n",
            "0         NaN  NaN           NaN            NaN              NaN  NaN   \n",
            "1         NaN  NaN           NaN            NaN              NaN  NaN   \n",
            "2         NaN  NaN           NaN            NaN              NaN  NaN   \n",
            "3         NaN  NaN           NaN            NaN              NaN  NaN   \n",
            "4         NaN  NaN           NaN            NaN              NaN  NaN   \n",
            "...       ...  ...           ...            ...              ...  ...   \n",
            "99995     NaN  NaN           NaN            NaN              NaN  NaN   \n",
            "99996     NaN  NaN           NaN            NaN              NaN  NaN   \n",
            "99997     NaN  NaN           NaN            NaN              NaN  NaN   \n",
            "99998     NaN  NaN           NaN            NaN              NaN  NaN   \n",
            "99999     NaN  NaN           NaN            NaN              NaN  NaN   \n",
            "\n",
            "       HbA1c_level  blood_glucose_level  diabetes  \n",
            "0              NaN                  NaN       NaN  \n",
            "1              NaN                  NaN       NaN  \n",
            "2              NaN                  NaN       NaN  \n",
            "3              NaN                  NaN       NaN  \n",
            "4              NaN                  NaN       NaN  \n",
            "...            ...                  ...       ...  \n",
            "99995          NaN                  NaN       NaN  \n",
            "99996          NaN                  NaN       NaN  \n",
            "99997          NaN                  NaN       NaN  \n",
            "99998          NaN                  NaN       NaN  \n",
            "99999          NaN                  NaN       NaN  \n",
            "\n",
            "[100000 rows x 9 columns]\n"
          ]
        }
      ],
      "source": [
        "# Define threshold for outlier detection (e.g., Z-Score > 3)\n",
        "threshold = 3\n",
        "# Find outliers\n",
        "outliers = data[z_scores > threshold]\n",
        "print(outliers)"
      ]
    },
    {
      "cell_type": "code",
      "execution_count": null,
      "id": "8e763a9f-fc7b-4ef8-8b13-5b6a71a1249c",
      "metadata": {
        "id": "8e763a9f-fc7b-4ef8-8b13-5b6a71a1249c",
        "outputId": "d57a4fdd-bab4-4d30-81bb-551bdce3ada5"
      },
      "outputs": [
        {
          "name": "stdout",
          "output_type": "stream",
          "text": [
            "Number of outliers: age                       0\n",
            "bmi                    1294\n",
            "HbA1c_level            1315\n",
            "smoking_history           0\n",
            "blood_glucose_level    1403\n",
            "dtype: int64\n",
            "Total Number of outliers: 4012\n"
          ]
        }
      ],
      "source": [
        "outliers_count = (z_scores.abs() > threshold).sum()\n",
        "tot_outliers = (z_scores.abs() > threshold).sum().sum()\n",
        "print(\"Number of outliers:\", outliers_count)\n",
        "print(\"Total Number of outliers:\", tot_outliers)"
      ]
    },
    {
      "cell_type": "code",
      "execution_count": null,
      "id": "e504852a-3b23-4647-b3ea-ab76f39620e7",
      "metadata": {
        "id": "e504852a-3b23-4647-b3ea-ab76f39620e7",
        "outputId": "9e96f9cb-fc7a-4548-fd58-21c2b0d201a1"
      },
      "outputs": [
        {
          "name": "stdout",
          "output_type": "stream",
          "text": [
            "   gender       age  hypertension  heart_disease  smoking_history       bmi  \\\n",
            "0       0  1.000000             0              1              0.8  0.177171   \n",
            "1       0  0.674675             0              0              0.0  0.202031   \n",
            "2       1  0.349349             0              0              0.8  0.202031   \n",
            "3       0  0.449449             0              0              0.2  0.156863   \n",
            "4       1  0.949950             1              1              0.2  0.118231   \n",
            "\n",
            "   HbA1c_level  blood_glucose_level  diabetes  \n",
            "0     0.563636             0.272727         0  \n",
            "1     0.563636             0.000000         0  \n",
            "2     0.400000             0.354545         0  \n",
            "3     0.272727             0.340909         0  \n",
            "4     0.236364             0.340909         0  \n"
          ]
        }
      ],
      "source": [
        "# normalization\n",
        "# Initialize the MinMaxScaler\n",
        "scaler = MinMaxScaler()\n",
        "\n",
        "# Fit the scaler to the data and transform it\n",
        "data[numerical_columns] = scaler.fit_transform(data[numerical_columns])\n",
        "\n",
        "# Display the first few rows to verify the normalization\n",
        "print(data.head())\n",
        "\n"
      ]
    },
    {
      "cell_type": "code",
      "execution_count": null,
      "id": "88f9e9de-7cc7-43df-b05c-b3ba8b446c39",
      "metadata": {
        "id": "88f9e9de-7cc7-43df-b05c-b3ba8b446c39",
        "outputId": "841c8c76-a877-499a-fc7b-a68482e27457"
      },
      "outputs": [
        {
          "name": "stdout",
          "output_type": "stream",
          "text": [
            "   gender       age  hypertension  heart_disease  smoking_history       bmi  \\\n",
            "0       0  1.692704             0              1         0.963327 -0.321056   \n",
            "1       0  0.538006             0              0        -1.153468 -0.000116   \n",
            "2       1 -0.616691             0              0         0.963327 -0.000116   \n",
            "3       0 -0.261399             0              0        -0.624269 -0.583232   \n",
            "4       1  1.515058             1              1        -0.624269 -1.081970   \n",
            "\n",
            "   HbA1c_level  blood_glucose_level  diabetes  \n",
            "0     1.001706             0.047704         0  \n",
            "1     1.001706            -1.426210         0  \n",
            "2     0.161108             0.489878         0  \n",
            "3    -0.492690             0.416183         0  \n",
            "4    -0.679490             0.416183         0  \n"
          ]
        }
      ],
      "source": [
        "from sklearn.preprocessing import StandardScaler\n",
        "\n",
        "# Initialize the StandardScaler\n",
        "scaler = StandardScaler()\n",
        "\n",
        "# Assuming 'numerical_columns' is a list of the numerical column names in your DataFrame\n",
        "# Fit the scaler to the data and transform it\n",
        "data[numerical_columns] = scaler.fit_transform(data[numerical_columns])\n",
        "\n",
        "# Display the first few rows to verify the standardization\n",
        "print(data.head())"
      ]
    },
    {
      "cell_type": "code",
      "execution_count": null,
      "id": "ca74cf38-0522-4da3-9292-7ed816c5f435",
      "metadata": {
        "id": "ca74cf38-0522-4da3-9292-7ed816c5f435"
      },
      "outputs": [],
      "source": [
        "X = data.drop(columns=['diabetes'], axis=1)\n",
        "y = data['diabetes']\n",
        "\n",
        "X_train, X_test, y_train, y_test = train_test_split(X, y, test_size=0.30, random_state=42)"
      ]
    },
    {
      "cell_type": "code",
      "execution_count": null,
      "id": "d91f57c2-0b56-464c-9d51-c8fa70277e39",
      "metadata": {
        "id": "d91f57c2-0b56-464c-9d51-c8fa70277e39",
        "outputId": "48397445-ae0e-4aea-a154-24bcce7c2c4a"
      },
      "outputs": [
        {
          "data": {
            "text/html": [
              "<style>#sk-container-id-1 {color: black;background-color: white;}#sk-container-id-1 pre{padding: 0;}#sk-container-id-1 div.sk-toggleable {background-color: white;}#sk-container-id-1 label.sk-toggleable__label {cursor: pointer;display: block;width: 100%;margin-bottom: 0;padding: 0.3em;box-sizing: border-box;text-align: center;}#sk-container-id-1 label.sk-toggleable__label-arrow:before {content: \"▸\";float: left;margin-right: 0.25em;color: #696969;}#sk-container-id-1 label.sk-toggleable__label-arrow:hover:before {color: black;}#sk-container-id-1 div.sk-estimator:hover label.sk-toggleable__label-arrow:before {color: black;}#sk-container-id-1 div.sk-toggleable__content {max-height: 0;max-width: 0;overflow: hidden;text-align: left;background-color: #f0f8ff;}#sk-container-id-1 div.sk-toggleable__content pre {margin: 0.2em;color: black;border-radius: 0.25em;background-color: #f0f8ff;}#sk-container-id-1 input.sk-toggleable__control:checked~div.sk-toggleable__content {max-height: 200px;max-width: 100%;overflow: auto;}#sk-container-id-1 input.sk-toggleable__control:checked~label.sk-toggleable__label-arrow:before {content: \"▾\";}#sk-container-id-1 div.sk-estimator input.sk-toggleable__control:checked~label.sk-toggleable__label {background-color: #d4ebff;}#sk-container-id-1 div.sk-label input.sk-toggleable__control:checked~label.sk-toggleable__label {background-color: #d4ebff;}#sk-container-id-1 input.sk-hidden--visually {border: 0;clip: rect(1px 1px 1px 1px);clip: rect(1px, 1px, 1px, 1px);height: 1px;margin: -1px;overflow: hidden;padding: 0;position: absolute;width: 1px;}#sk-container-id-1 div.sk-estimator {font-family: monospace;background-color: #f0f8ff;border: 1px dotted black;border-radius: 0.25em;box-sizing: border-box;margin-bottom: 0.5em;}#sk-container-id-1 div.sk-estimator:hover {background-color: #d4ebff;}#sk-container-id-1 div.sk-parallel-item::after {content: \"\";width: 100%;border-bottom: 1px solid gray;flex-grow: 1;}#sk-container-id-1 div.sk-label:hover label.sk-toggleable__label {background-color: #d4ebff;}#sk-container-id-1 div.sk-serial::before {content: \"\";position: absolute;border-left: 1px solid gray;box-sizing: border-box;top: 0;bottom: 0;left: 50%;z-index: 0;}#sk-container-id-1 div.sk-serial {display: flex;flex-direction: column;align-items: center;background-color: white;padding-right: 0.2em;padding-left: 0.2em;position: relative;}#sk-container-id-1 div.sk-item {position: relative;z-index: 1;}#sk-container-id-1 div.sk-parallel {display: flex;align-items: stretch;justify-content: center;background-color: white;position: relative;}#sk-container-id-1 div.sk-item::before, #sk-container-id-1 div.sk-parallel-item::before {content: \"\";position: absolute;border-left: 1px solid gray;box-sizing: border-box;top: 0;bottom: 0;left: 50%;z-index: -1;}#sk-container-id-1 div.sk-parallel-item {display: flex;flex-direction: column;z-index: 1;position: relative;background-color: white;}#sk-container-id-1 div.sk-parallel-item:first-child::after {align-self: flex-end;width: 50%;}#sk-container-id-1 div.sk-parallel-item:last-child::after {align-self: flex-start;width: 50%;}#sk-container-id-1 div.sk-parallel-item:only-child::after {width: 0;}#sk-container-id-1 div.sk-dashed-wrapped {border: 1px dashed gray;margin: 0 0.4em 0.5em 0.4em;box-sizing: border-box;padding-bottom: 0.4em;background-color: white;}#sk-container-id-1 div.sk-label label {font-family: monospace;font-weight: bold;display: inline-block;line-height: 1.2em;}#sk-container-id-1 div.sk-label-container {text-align: center;}#sk-container-id-1 div.sk-container {/* jupyter's `normalize.less` sets `[hidden] { display: none; }` but bootstrap.min.css set `[hidden] { display: none !important; }` so we also need the `!important` here to be able to override the default hidden behavior on the sphinx rendered scikit-learn.org. See: https://github.com/scikit-learn/scikit-learn/issues/21755 */display: inline-block !important;position: relative;}#sk-container-id-1 div.sk-text-repr-fallback {display: none;}</style><div id=\"sk-container-id-1\" class=\"sk-top-container\"><div class=\"sk-text-repr-fallback\"><pre>DecisionTreeClassifier()</pre><b>In a Jupyter environment, please rerun this cell to show the HTML representation or trust the notebook. <br />On GitHub, the HTML representation is unable to render, please try loading this page with nbviewer.org.</b></div><div class=\"sk-container\" hidden><div class=\"sk-item\"><div class=\"sk-estimator sk-toggleable\"><input class=\"sk-toggleable__control sk-hidden--visually\" id=\"sk-estimator-id-1\" type=\"checkbox\" checked><label for=\"sk-estimator-id-1\" class=\"sk-toggleable__label sk-toggleable__label-arrow\">DecisionTreeClassifier</label><div class=\"sk-toggleable__content\"><pre>DecisionTreeClassifier()</pre></div></div></div></div></div>"
            ],
            "text/plain": [
              "DecisionTreeClassifier()"
            ]
          },
          "execution_count": 18,
          "metadata": {},
          "output_type": "execute_result"
        }
      ],
      "source": [
        "model = tree.DecisionTreeClassifier()\n",
        "model.fit(X_train, y_train)\n"
      ]
    },
    {
      "cell_type": "code",
      "execution_count": null,
      "id": "3067d593-6537-4c91-b7fb-6014f4c5ad74",
      "metadata": {
        "id": "3067d593-6537-4c91-b7fb-6014f4c5ad74"
      },
      "outputs": [],
      "source": [
        "y_pred_test = model.predict(X_test)\n",
        "y_pred_train= model.predict(X_train)\n"
      ]
    },
    {
      "cell_type": "code",
      "execution_count": null,
      "id": "46c8b26b-e215-47ac-b324-6fee1f818c0d",
      "metadata": {
        "id": "46c8b26b-e215-47ac-b324-6fee1f818c0d",
        "outputId": "3fa2bab5-a3ca-4cc9-da11-525fb6cb1668"
      },
      "outputs": [
        {
          "name": "stdout",
          "output_type": "stream",
          "text": [
            "Classification Report - Training Data:\n",
            "               precision    recall  f1-score   support\n",
            "\n",
            "           0       1.00      1.00      1.00     64047\n",
            "           1       1.00      0.99      1.00      5953\n",
            "\n",
            "    accuracy                           1.00     70000\n",
            "   macro avg       1.00      1.00      1.00     70000\n",
            "weighted avg       1.00      1.00      1.00     70000\n",
            "\n",
            "Classification Report - Testing Data:\n",
            "               precision    recall  f1-score   support\n",
            "\n",
            "           0       0.98      0.97      0.97     27453\n",
            "           1       0.72      0.73      0.73      2547\n",
            "\n",
            "    accuracy                           0.95     30000\n",
            "   macro avg       0.85      0.85      0.85     30000\n",
            "weighted avg       0.95      0.95      0.95     30000\n",
            "\n"
          ]
        }
      ],
      "source": [
        "# Generate classification report for training data\n",
        "report_train = classification_report(y_train, y_pred_train)\n",
        "print(\"Classification Report - Training Data:\\n\", report_train)\n",
        "\n",
        "# Generate classification report for testing data\n",
        "report_test = classification_report(y_test, y_pred_test)\n",
        "print(\"Classification Report - Testing Data:\\n\", report_test)\n"
      ]
    },
    {
      "cell_type": "code",
      "execution_count": null,
      "id": "8ecaeb80-27df-4390-a37a-5a514c67e216",
      "metadata": {
        "id": "8ecaeb80-27df-4390-a37a-5a514c67e216",
        "outputId": "1c103442-9d49-4d24-f744-688a4524d46a"
      },
      "outputs": [
        {
          "data": {
            "text/plain": [
              "0.8533376263541883"
            ]
          },
          "execution_count": 21,
          "metadata": {},
          "output_type": "execute_result"
        }
      ],
      "source": [
        "from sklearn.metrics import roc_auc_score\n",
        "roc_auc_score(y_test, y_pred_test)"
      ]
    },
    {
      "cell_type": "code",
      "execution_count": null,
      "id": "f4ca1012-9c9c-4cc4-960e-50a3574834db",
      "metadata": {
        "id": "f4ca1012-9c9c-4cc4-960e-50a3574834db",
        "outputId": "278ddf70-6023-4075-8a70-6747128cdcca"
      },
      "outputs": [
        {
          "data": {
            "image/png": "[encoded data removed]",
            "text/plain": [
              "<Figure size 800x600 with 2 Axes>"
            ]
          },
          "metadata": {},
          "output_type": "display_data"
        }
      ],
      "source": [
        "\n",
        "\n",
        "from sklearn.metrics import confusion_matrix\n",
        "import matplotlib.pyplot as plt\n",
        "import numpy as np\n",
        "\n",
        "# Compute confusion matrix\n",
        "cm = confusion_matrix(y_test, y_pred_test)\n",
        "\n",
        "# Plot confusion matrix\n",
        "plt.figure(figsize=(8, 6))\n",
        "plt.imshow(cm, interpolation='nearest', cmap='Blues')\n",
        "plt.title('Confusion Matrix')\n",
        "plt.colorbar()\n",
        "tick_marks = np.arange(len(model.classes_))\n",
        "plt.xticks(tick_marks, model.classes_, rotation=45)\n",
        "plt.yticks(tick_marks, model.classes_)\n",
        "plt.xlabel('Predicted Label')\n",
        "plt.ylabel('True Label')\n",
        "\n",
        "# Add counts in each cell\n",
        "thresh = cm.max() / 2.\n",
        "for i in range(cm.shape[0]):\n",
        "    for j in range(cm.shape[1]):\n",
        "        plt.text(j, i, format(cm[i, j], 'd'),\n",
        "                 ha=\"center\", va=\"center\",\n",
        "                 color=\"white\" if cm[i, j] > thresh else \"black\")\n",
        "\n",
        "plt.tight_layout()\n",
        "plt.show()\n",
        "\n"
      ]
    },
    {
      "cell_type": "code",
      "execution_count": null,
      "id": "51c7e012-fe8f-46e6-8100-a0e3f9c4beb7",
      "metadata": {
        "id": "51c7e012-fe8f-46e6-8100-a0e3f9c4beb7",
        "outputId": "93ac0c3f-979f-4896-a8dd-a95e43ea55a7"
      },
      "outputs": [
        {
          "name": "stdout",
          "output_type": "stream",
          "text": [
            "Accuracy on training data: 0.9993142857142857\n",
            "Accuracy on testing data: 0.9529\n"
          ]
        }
      ],
      "source": [
        "from sklearn.metrics import accuracy_score\n",
        "\n",
        "# Calculate accuracy for training data\n",
        "accuracy_train = accuracy_score(y_train, y_pred_train)\n",
        "print(\"Accuracy on training data:\", accuracy_train)\n",
        "\n",
        "# Calculate accuracy for testing data\n",
        "accuracy_test = accuracy_score(y_test, y_pred_test)\n",
        "print(\"Accuracy on testing data:\", accuracy_test)\n"
      ]
    },
    {
      "cell_type": "code",
      "execution_count": null,
      "id": "98d705ad-4afe-495a-aac1-f142179bc04c",
      "metadata": {
        "id": "98d705ad-4afe-495a-aac1-f142179bc04c",
        "outputId": "972a479d-e59d-4ed4-cf46-b23fb6c05a91"
      },
      "outputs": [
        {
          "name": "stdout",
          "output_type": "stream",
          "text": [
            "Accuracy using entropy: 0.9542333333333334\n",
            "Accuracy using Gini index: 0.9529333333333333\n"
          ]
        }
      ],
      "source": [
        "from sklearn.tree import DecisionTreeClassifier\n",
        "from sklearn.model_selection import train_test_split\n",
        "from sklearn.metrics import accuracy_score\n",
        "\n",
        "# Assuming 'features' contains your feature matrix and 'labels' contains your target variable\n",
        "# Example:\n",
        "# X_train, X_test, y_train, y_test = train_test_split(features, labels, test_size=0.2, random_state=42)\n",
        "\n",
        "# Create and train Decision Tree models with entropy and Gini index\n",
        "tree_entropy = DecisionTreeClassifier(criterion='entropy', random_state=42)\n",
        "tree_gini = DecisionTreeClassifier(criterion='gini', random_state=42)\n",
        "\n",
        "# Fit models to training data\n",
        "tree_entropy.fit(X_train, y_train)\n",
        "tree_gini.fit(X_train, y_train)\n",
        "\n",
        "# Predictions\n",
        "y_pred_entropy = tree_entropy.predict(X_test)\n",
        "y_pred_gini = tree_gini.predict(X_test)\n",
        "\n",
        "# Evaluate accuracy\n",
        "accuracy_entropy = accuracy_score(y_test, y_pred_entropy)\n",
        "accuracy_gini = accuracy_score(y_test, y_pred_gini)\n",
        "\n",
        "print(\"Accuracy using entropy:\", accuracy_entropy)\n",
        "print(\"Accuracy using Gini index:\", accuracy_gini)\n"
      ]
    },
    {
      "cell_type": "code",
      "execution_count": null,
      "id": "74cfe046-06ed-4b79-b529-896ed7ec84d0",
      "metadata": {
        "id": "74cfe046-06ed-4b79-b529-896ed7ec84d0"
      },
      "outputs": [],
      "source": []
    }
  ],
  "metadata": {
    "kernelspec": {
      "display_name": "Python 3 (ipykernel)",
      "language": "python",
      "name": "python3"
    },
    "language_info": {
      "codemirror_mode": {
        "name": "ipython",
        "version": 3
      },
      "file_extension": ".py",
      "mimetype": "text/x-python",
      "name": "python",
      "nbconvert_exporter": "python",
      "pygments_lexer": "ipython3",
      "version": "3.11.7"
    },
    "colab": {
      "provenance": []
    }
  },
  "nbformat": 4,
  "nbformat_minor": 5
}