{
  "nbformat": 4,
  "nbformat_minor": 0,
  "metadata": {
    "colab": {
      "provenance": [],
      "gpuType": "T4"
    },
    "kernelspec": {
      "name": "python3",
      "display_name": "Python 3"
    },
    "language_info": {
      "name": "python"
    },
    "accelerator": "GPU"
  },
  "cells": [
    {
      "cell_type": "code",
      "execution_count": null,
      "metadata": {
        "colab": {
          "base_uri": "https://localhost:8080/"
        },
        "id": "zy-sZsx00VI_",
        "outputId": "6b0cf077-0240-493f-9369-0beca7740a92"
      },
      "outputs": [
        {
          "output_type": "stream",
          "name": "stdout",
          "text": [
            "Collecting opendatasets\n",
            "  Downloading opendatasets-0.1.22-py3-none-any.whl (15 kB)\n",
            "Requirement already satisfied: tqdm in /usr/local/lib/python3.10/dist-packages (from opendatasets) (4.66.2)\n",
            "Requirement already satisfied: kaggle in /usr/local/lib/python3.10/dist-packages (from opendatasets) (1.5.16)\n",
            "Requirement already satisfied: click in /usr/local/lib/python3.10/dist-packages (from opendatasets) (8.1.7)\n",
            "Requirement already satisfied: six>=1.10 in /usr/local/lib/python3.10/dist-packages (from kaggle->opendatasets) (1.16.0)\n",
            "Requirement already satisfied: certifi in /usr/local/lib/python3.10/dist-packages (from kaggle->opendatasets) (2024.2.2)\n",
            "Requirement already satisfied: python-dateutil in /usr/local/lib/python3.10/dist-packages (from kaggle->opendatasets) (2.8.2)\n",
            "Requirement already satisfied: requests in /usr/local/lib/python3.10/dist-packages (from kaggle->opendatasets) (2.31.0)\n",
            "Requirement already satisfied: python-slugify in /usr/local/lib/python3.10/dist-packages (from kaggle->opendatasets) (8.0.4)\n",
            "Requirement already satisfied: urllib3 in /usr/local/lib/python3.10/dist-packages (from kaggle->opendatasets) (2.0.7)\n",
            "Requirement already satisfied: bleach in /usr/local/lib/python3.10/dist-packages (from kaggle->opendatasets) (6.1.0)\n",
            "Requirement already satisfied: webencodings in /usr/local/lib/python3.10/dist-packages (from bleach->kaggle->opendatasets) (0.5.1)\n",
            "Requirement already satisfied: text-unidecode>=1.3 in /usr/local/lib/python3.10/dist-packages (from python-slugify->kaggle->opendatasets) (1.3)\n",
            "Requirement already satisfied: charset-normalizer<4,>=2 in /usr/local/lib/python3.10/dist-packages (from requests->kaggle->opendatasets) (3.3.2)\n",
            "Requirement already satisfied: idna<4,>=2.5 in /usr/local/lib/python3.10/dist-packages (from requests->kaggle->opendatasets) (3.6)\n",
            "Installing collected packages: opendatasets\n",
            "Successfully installed opendatasets-0.1.22\n"
          ]
        }
      ],
      "source": [
        "!pip install opendatasets"
      ]
    },
    {
      "cell_type": "code",
      "source": [
        "import cv2\n",
        "import matplotlib.pyplot as plt"
      ],
      "metadata": {
        "id": "kGRD0L0s1MWs"
      },
      "execution_count": null,
      "outputs": []
    },
    {
      "cell_type": "code",
      "source": [
        "import opendatasets as od\n",
        "import pandas as pd\n",
        "\n",
        "od.download('https://www.kaggle.com/datasets/dhruvildave/english-handwritten-characters-dataset/data')"
      ],
      "metadata": {
        "colab": {
          "base_uri": "https://localhost:8080/",
          "height": 379
        },
        "id": "hjf1A7sq0pBh",
        "outputId": "d6d2433f-bb2f-4a2e-c965-e4abf90f8ab7"
      },
      "execution_count": 1,
      "outputs": [
        {
          "output_type": "error",
          "ename": "ModuleNotFoundError",
          "evalue": "No module named 'opendatasets'",
          "traceback": [
            "\u001b[0;31m---------------------------------------------------------------------------\u001b[0m",
            "\u001b[0;31mModuleNotFoundError\u001b[0m                       Traceback (most recent call last)",
            "\u001b[0;32m<ipython-input-1-a8d8694b2ac6>\u001b[0m in \u001b[0;36m<cell line: 1>\u001b[0;34m()\u001b[0m\n\u001b[0;32m----> 1\u001b[0;31m \u001b[0;32mimport\u001b[0m \u001b[0mopendatasets\u001b[0m \u001b[0;32mas\u001b[0m \u001b[0mod\u001b[0m\u001b[0;34m\u001b[0m\u001b[0;34m\u001b[0m\u001b[0m\n\u001b[0m\u001b[1;32m      2\u001b[0m \u001b[0;32mimport\u001b[0m \u001b[0mpandas\u001b[0m \u001b[0;32mas\u001b[0m \u001b[0mpd\u001b[0m\u001b[0;34m\u001b[0m\u001b[0;34m\u001b[0m\u001b[0m\n\u001b[1;32m      3\u001b[0m \u001b[0;34m\u001b[0m\u001b[0m\n\u001b[1;32m      4\u001b[0m \u001b[0mod\u001b[0m\u001b[0;34m.\u001b[0m\u001b[0mdownload\u001b[0m\u001b[0;34m(\u001b[0m\u001b[0;34m'https://www.kaggle.com/datasets/dhruvildave/english-handwritten-characters-dataset/data'\u001b[0m\u001b[0;34m)\u001b[0m\u001b[0;34m\u001b[0m\u001b[0;34m\u001b[0m\u001b[0m\n",
            "\u001b[0;31mModuleNotFoundError\u001b[0m: No module named 'opendatasets'",
            "",
            "\u001b[0;31m---------------------------------------------------------------------------\u001b[0;32m\nNOTE: If your import is failing due to a missing package, you can\nmanually install dependencies using either !pip or !apt.\n\nTo view examples of installing some common dependencies, click the\n\"Open Examples\" button below.\n\u001b[0;31m---------------------------------------------------------------------------\u001b[0m\n"
          ],
          "errorDetails": {
            "actions": [
              {
                "action": "open_url",
                "actionText": "Open Examples",
                "url": "/notebooks/snippets/importing_libraries.ipynb"
              }
            ]
          }
        }
      ]
    },
    {
      "cell_type": "code",
      "source": [
        "df = pd.read_csv('/content/english-handwritten-characters-dataset/english.csv')\n",
        "df"
      ],
      "metadata": {
        "colab": {
          "base_uri": "https://localhost:8080/",
          "height": 424
        },
        "id": "KQmtlsW41BtE",
        "outputId": "279c125f-336e-4677-a1cf-e948088a60a0"
      },
      "execution_count": null,
      "outputs": [
        {
          "output_type": "execute_result",
          "data": {
            "text/plain": [
              "                   image label\n",
              "0     Img/img001-001.png     0\n",
              "1     Img/img001-002.png     0\n",
              "2     Img/img001-003.png     0\n",
              "3     Img/img001-004.png     0\n",
              "4     Img/img001-005.png     0\n",
              "...                  ...   ...\n",
              "3405  Img/img062-051.png     z\n",
              "3406  Img/img062-052.png     z\n",
              "3407  Img/img062-053.png     z\n",
              "3408  Img/img062-054.png     z\n",
              "3409  Img/img062-055.png     z\n",
              "\n",
              "[3410 rows x 2 columns]"
            ],
            "text/html": [
              "\n",
              "  <div id=\"df-83672a1e-6771-4716-8301-bd2366bfa1fa\" class=\"colab-df-container\">\n",
              "    <div>\n",
              "<style scoped>\n",
              "    .dataframe tbody tr th:only-of-type {\n",
              "        vertical-align: middle;\n",
              "    }\n",
              "\n",
              "    .dataframe tbody tr th {\n",
              "        vertical-align: top;\n",
              "    }\n",
              "\n",
              "    .dataframe thead th {\n",
              "        text-align: right;\n",
              "    }\n",
              "</style>\n",
              "<table border=\"1\" class=\"dataframe\">\n",
              "  <thead>\n",
              "    <tr style=\"text-align: right;\">\n",
              "      <th></th>\n",
              "      <th>image</th>\n",
              "      <th>label</th>\n",
              "    </tr>\n",
              "  </thead>\n",
              "  <tbody>\n",
              "    <tr>\n",
              "      <th>0</th>\n",
              "      <td>Img/img001-001.png</td>\n",
              "      <td>0</td>\n",
              "    </tr>\n",
              "    <tr>\n",
              "      <th>1</th>\n",
              "      <td>Img/img001-002.png</td>\n",
              "      <td>0</td>\n",
              "    </tr>\n",
              "    <tr>\n",
              "      <th>2</th>\n",
              "      <td>Img/img001-003.png</td>\n",
              "      <td>0</td>\n",
              "    </tr>\n",
              "    <tr>\n",
              "      <th>3</th>\n",
              "      <td>Img/img001-004.png</td>\n",
              "      <td>0</td>\n",
              "    </tr>\n",
              "    <tr>\n",
              "      <th>4</th>\n",
              "      <td>Img/img001-005.png</td>\n",
              "      <td>0</td>\n",
              "    </tr>\n",
              "    <tr>\n",
              "      <th>...</th>\n",
              "      <td>...</td>\n",
              "      <td>...</td>\n",
              "    </tr>\n",
              "    <tr>\n",
              "      <th>3405</th>\n",
              "      <td>Img/img062-051.png</td>\n",
              "      <td>z</td>\n",
              "    </tr>\n",
              "    <tr>\n",
              "      <th>3406</th>\n",
              "      <td>Img/img062-052.png</td>\n",
              "      <td>z</td>\n",
              "    </tr>\n",
              "    <tr>\n",
              "      <th>3407</th>\n",
              "      <td>Img/img062-053.png</td>\n",
              "      <td>z</td>\n",
              "    </tr>\n",
              "    <tr>\n",
              "      <th>3408</th>\n",
              "      <td>Img/img062-054.png</td>\n",
              "      <td>z</td>\n",
              "    </tr>\n",
              "    <tr>\n",
              "      <th>3409</th>\n",
              "      <td>Img/img062-055.png</td>\n",
              "      <td>z</td>\n",
              "    </tr>\n",
              "  </tbody>\n",
              "</table>\n",
              "<p>3410 rows × 2 columns</p>\n",
              "</div>\n",
              "    <div class=\"colab-df-buttons\">\n",
              "\n",
              "  <div class=\"colab-df-container\">\n",
              "    <button class=\"colab-df-convert\" onclick=\"convertToInteractive('df-83672a1e-6771-4716-8301-bd2366bfa1fa')\"\n",
              "            title=\"Convert this dataframe to an interactive table.\"\n",
              "            style=\"display:none;\">\n",
              "\n",
              "  <svg xmlns=\"http://www.w3.org/2000/svg\" height=\"24px\" viewBox=\"0 -960 960 960\">\n",
              "    <path d=\"M120-120v-720h720v720H120Zm60-500h600v-160H180v160Zm220 220h160v-160H400v160Zm0 220h160v-160H400v160ZM180-400h160v-160H180v160Zm440 0h160v-160H620v160ZM180-180h160v-160H180v160Zm440 0h160v-160H620v160Z\"/>\n",
              "  </svg>\n",
              "    </button>\n",
              "\n",
              "  <style>\n",
              "    .colab-df-container {\n",
              "      display:flex;\n",
              "      gap: 12px;\n",
              "    }\n",
              "\n",
              "    .colab-df-convert {\n",
              "      background-color: #E8F0FE;\n",
              "      border: none;\n",
              "      border-radius: 50%;\n",
              "      cursor: pointer;\n",
              "      display: none;\n",
              "      fill: #1967D2;\n",
              "      height: 32px;\n",
              "      padding: 0 0 0 0;\n",
              "      width: 32px;\n",
              "    }\n",
              "\n",
              "    .colab-df-convert:hover {\n",
              "      background-color: #E2EBFA;\n",
              "      box-shadow: 0px 1px 2px rgba(60, 64, 67, 0.3), 0px 1px 3px 1px rgba(60, 64, 67, 0.15);\n",
              "      fill: #174EA6;\n",
              "    }\n",
              "\n",
              "    .colab-df-buttons div {\n",
              "      margin-bottom: 4px;\n",
              "    }\n",
              "\n",
              "    [theme=dark] .colab-df-convert {\n",
              "      background-color: #3B4455;\n",
              "      fill: #D2E3FC;\n",
              "    }\n",
              "\n",
              "    [theme=dark] .colab-df-convert:hover {\n",
              "      background-color: #434B5C;\n",
              "      box-shadow: 0px 1px 3px 1px rgba(0, 0, 0, 0.15);\n",
              "      filter: drop-shadow(0px 1px 2px rgba(0, 0, 0, 0.3));\n",
              "      fill: #FFFFFF;\n",
              "    }\n",
              "  </style>\n",
              "\n",
              "    <script>\n",
              "      const buttonEl =\n",
              "        document.querySelector('#df-83672a1e-6771-4716-8301-bd2366bfa1fa button.colab-df-convert');\n",
              "      buttonEl.style.display =\n",
              "        google.colab.kernel.accessAllowed ? 'block' : 'none';\n",
              "\n",
              "      async function convertToInteractive(key) {\n",
              "        const element = document.querySelector('#df-83672a1e-6771-4716-8301-bd2366bfa1fa');\n",
              "        const dataTable =\n",
              "          await google.colab.kernel.invokeFunction('convertToInteractive',\n",
              "                                                    [key], {});\n",
              "        if (!dataTable) return;\n",
              "\n",
              "        const docLinkHtml = 'Like what you see? Visit the ' +\n",
              "          '<a target=\"_blank\" href=https://colab.research.google.com/notebooks/data_table.ipynb>data table notebook</a>'\n",
              "          + ' to learn more about interactive tables.';\n",
              "        element.innerHTML = '';\n",
              "        dataTable['output_type'] = 'display_data';\n",
              "        await google.colab.output.renderOutput(dataTable, element);\n",
              "        const docLink = document.createElement('div');\n",
              "        docLink.innerHTML = docLinkHtml;\n",
              "        element.appendChild(docLink);\n",
              "      }\n",
              "    </script>\n",
              "  </div>\n",
              "\n",
              "\n",
              "<div id=\"df-266e1c82-3991-4c7b-8773-c5ced118299f\">\n",
              "  <button class=\"colab-df-quickchart\" onclick=\"quickchart('df-266e1c82-3991-4c7b-8773-c5ced118299f')\"\n",
              "            title=\"Suggest charts\"\n",
              "            style=\"display:none;\">\n",
              "\n",
              "<svg xmlns=\"http://www.w3.org/2000/svg\" height=\"24px\"viewBox=\"0 0 24 24\"\n",
              "     width=\"24px\">\n",
              "    <g>\n",
              "        <path d=\"M19 3H5c-1.1 0-2 .9-2 2v14c0 1.1.9 2 2 2h14c1.1 0 2-.9 2-2V5c0-1.1-.9-2-2-2zM9 17H7v-7h2v7zm4 0h-2V7h2v10zm4 0h-2v-4h2v4z\"/>\n",
              "    </g>\n",
              "</svg>\n",
              "  </button>\n",
              "\n",
              "<style>\n",
              "  .colab-df-quickchart {\n",
              "      --bg-color: #E8F0FE;\n",
              "      --fill-color: #1967D2;\n",
              "      --hover-bg-color: #E2EBFA;\n",
              "      --hover-fill-color: #174EA6;\n",
              "      --disabled-fill-color: #AAA;\n",
              "      --disabled-bg-color: #DDD;\n",
              "  }\n",
              "\n",
              "  [theme=dark] .colab-df-quickchart {\n",
              "      --bg-color: #3B4455;\n",
              "      --fill-color: #D2E3FC;\n",
              "      --hover-bg-color: #434B5C;\n",
              "      --hover-fill-color: #FFFFFF;\n",
              "      --disabled-bg-color: #3B4455;\n",
              "      --disabled-fill-color: #666;\n",
              "  }\n",
              "\n",
              "  .colab-df-quickchart {\n",
              "    background-color: var(--bg-color);\n",
              "    border: none;\n",
              "    border-radius: 50%;\n",
              "    cursor: pointer;\n",
              "    display: none;\n",
              "    fill: var(--fill-color);\n",
              "    height: 32px;\n",
              "    padding: 0;\n",
              "    width: 32px;\n",
              "  }\n",
              "\n",
              "  .colab-df-quickchart:hover {\n",
              "    background-color: var(--hover-bg-color);\n",
              "    box-shadow: 0 1px 2px rgba(60, 64, 67, 0.3), 0 1px 3px 1px rgba(60, 64, 67, 0.15);\n",
              "    fill: var(--button-hover-fill-color);\n",
              "  }\n",
              "\n",
              "  .colab-df-quickchart-complete:disabled,\n",
              "  .colab-df-quickchart-complete:disabled:hover {\n",
              "    background-color: var(--disabled-bg-color);\n",
              "    fill: var(--disabled-fill-color);\n",
              "    box-shadow: none;\n",
              "  }\n",
              "\n",
              "  .colab-df-spinner {\n",
              "    border: 2px solid var(--fill-color);\n",
              "    border-color: transparent;\n",
              "    border-bottom-color: var(--fill-color);\n",
              "    animation:\n",
              "      spin 1s steps(1) infinite;\n",
              "  }\n",
              "\n",
              "  @keyframes spin {\n",
              "    0% {\n",
              "      border-color: transparent;\n",
              "      border-bottom-color: var(--fill-color);\n",
              "      border-left-color: var(--fill-color);\n",
              "    }\n",
              "    20% {\n",
              "      border-color: transparent;\n",
              "      border-left-color: var(--fill-color);\n",
              "      border-top-color: var(--fill-color);\n",
              "    }\n",
              "    30% {\n",
              "      border-color: transparent;\n",
              "      border-left-color: var(--fill-color);\n",
              "      border-top-color: var(--fill-color);\n",
              "      border-right-color: var(--fill-color);\n",
              "    }\n",
              "    40% {\n",
              "      border-color: transparent;\n",
              "      border-right-color: var(--fill-color);\n",
              "      border-top-color: var(--fill-color);\n",
              "    }\n",
              "    60% {\n",
              "      border-color: transparent;\n",
              "      border-right-color: var(--fill-color);\n",
              "    }\n",
              "    80% {\n",
              "      border-color: transparent;\n",
              "      border-right-color: var(--fill-color);\n",
              "      border-bottom-color: var(--fill-color);\n",
              "    }\n",
              "    90% {\n",
              "      border-color: transparent;\n",
              "      border-bottom-color: var(--fill-color);\n",
              "    }\n",
              "  }\n",
              "</style>\n",
              "\n",
              "  <script>\n",
              "    async function quickchart(key) {\n",
              "      const quickchartButtonEl =\n",
              "        document.querySelector('#' + key + ' button');\n",
              "      quickchartButtonEl.disabled = true;  // To prevent multiple clicks.\n",
              "      quickchartButtonEl.classList.add('colab-df-spinner');\n",
              "      try {\n",
              "        const charts = await google.colab.kernel.invokeFunction(\n",
              "            'suggestCharts', [key], {});\n",
              "      } catch (error) {\n",
              "        console.error('Error during call to suggestCharts:', error);\n",
              "      }\n",
              "      quickchartButtonEl.classList.remove('colab-df-spinner');\n",
              "      quickchartButtonEl.classList.add('colab-df-quickchart-complete');\n",
              "    }\n",
              "    (() => {\n",
              "      let quickchartButtonEl =\n",
              "        document.querySelector('#df-266e1c82-3991-4c7b-8773-c5ced118299f button');\n",
              "      quickchartButtonEl.style.display =\n",
              "        google.colab.kernel.accessAllowed ? 'block' : 'none';\n",
              "    })();\n",
              "  </script>\n",
              "</div>\n",
              "    </div>\n",
              "  </div>\n"
            ],
            "application/vnd.google.colaboratory.intrinsic+json": {
              "type": "dataframe",
              "variable_name": "df",
              "summary": "{\n  \"name\": \"df\",\n  \"rows\": 3410,\n  \"fields\": [\n    {\n      \"column\": \"image\",\n      \"properties\": {\n        \"dtype\": \"string\",\n        \"num_unique_values\": 3410,\n        \"samples\": [\n          \"Img/img058-001.png\",\n          \"Img/img033-030.png\",\n          \"Img/img004-006.png\"\n        ],\n        \"semantic_type\": \"\",\n        \"description\": \"\"\n      }\n    },\n    {\n      \"column\": \"label\",\n      \"properties\": {\n        \"dtype\": \"category\",\n        \"num_unique_values\": 62,\n        \"samples\": [\n          \"o\",\n          \"u\",\n          \"0\"\n        ],\n        \"semantic_type\": \"\",\n        \"description\": \"\"\n      }\n    }\n  ]\n}"
            }
          },
          "metadata": {},
          "execution_count": 4
        }
      ]
    },
    {
      "cell_type": "code",
      "source": [
        "img = cv2.imread('/content/english-handwritten-characters-dataset/Img/img022-025.png', cv2.IMREAD_GRAYSCALE)\n",
        "plt.imshow(img)"
      ],
      "metadata": {
        "colab": {
          "base_uri": "https://localhost:8080/",
          "height": 452
        },
        "id": "QTks8Ucf1IWQ",
        "outputId": "18d82f47-13a3-414a-a87c-f7e36c425c57"
      },
      "execution_count": null,
      "outputs": [
        {
          "output_type": "execute_result",
          "data": {
            "text/plain": [
              "<matplotlib.image.AxesImage at 0x7a45eef75000>"
            ]
          },
          "metadata": {},
          "execution_count": 5
        },
        {
          "output_type": "display_data",
          "data": {
            "text/plain": [
              "<Figure size 640x480 with 1 Axes>"
            ],
            "image/png": "[encoded data removed]"
          },
          "metadata": {}
        }
      ]
    },
    {
      "cell_type": "code",
      "source": [
        "img = cv2.resize(img,(100,100))\n",
        "plt.imshow(img)"
      ],
      "metadata": {
        "colab": {
          "base_uri": "https://localhost:8080/",
          "height": 450
        },
        "id": "5O2wd-f86maY",
        "outputId": "d8536d12-b97f-4e91-a4d6-9661ed05af00"
      },
      "execution_count": null,
      "outputs": [
        {
          "output_type": "execute_result",
          "data": {
            "text/plain": [
              "<matplotlib.image.AxesImage at 0x7a45ec4b7af0>"
            ]
          },
          "metadata": {},
          "execution_count": 6
        },
        {
          "output_type": "display_data",
          "data": {
            "text/plain": [
              "<Figure size 640x480 with 1 Axes>"
            ],
            "image/png": "[encoded data removed]"
          },
          "metadata": {}
        }
      ]
    },
    {
      "cell_type": "code",
      "source": [
        "img.shape"
      ],
      "metadata": {
        "colab": {
          "base_uri": "https://localhost:8080/"
        },
        "id": "7EqGZTc31w5X",
        "outputId": "9f42fdcc-b1b2-4921-ae2d-5ea43662168a"
      },
      "execution_count": null,
      "outputs": [
        {
          "output_type": "execute_result",
          "data": {
            "text/plain": [
              "(100, 100)"
            ]
          },
          "metadata": {},
          "execution_count": 7
        }
      ]
    },
    {
      "cell_type": "code",
      "source": [
        "df['image'] = '/content/english-handwritten-characters-dataset/' + df['image']"
      ],
      "metadata": {
        "id": "jAdO2_SC5cka"
      },
      "execution_count": null,
      "outputs": []
    },
    {
      "cell_type": "code",
      "source": [
        "from sklearn import preprocessing\n",
        "\n",
        "# label_encoder object knows\n",
        "# how to understand word labels.\n",
        "label_encoder = preprocessing.LabelEncoder()\n",
        "\n",
        "# Encode labels in column 'species'.\n",
        "df['label']= label_encoder.fit_transform(df['label'])\n"
      ],
      "metadata": {
        "id": "3BPxJsaL-wlQ"
      },
      "execution_count": null,
      "outputs": []
    },
    {
      "cell_type": "code",
      "source": [
        "df"
      ],
      "metadata": {
        "colab": {
          "base_uri": "https://localhost:8080/",
          "height": 424
        },
        "id": "2M5Fg-BB-6bF",
        "outputId": "066cad67-158c-4047-bb4d-3ee3af4d4f93"
      },
      "execution_count": null,
      "outputs": [
        {
          "output_type": "execute_result",
          "data": {
            "text/plain": [
              "                                                  image  label\n",
              "0     /content/english-handwritten-characters-datase...      0\n",
              "1     /content/english-handwritten-characters-datase...      0\n",
              "2     /content/english-handwritten-characters-datase...      0\n",
              "3     /content/english-handwritten-characters-datase...      0\n",
              "4     /content/english-handwritten-characters-datase...      0\n",
              "...                                                 ...    ...\n",
              "3405  /content/english-handwritten-characters-datase...     61\n",
              "3406  /content/english-handwritten-characters-datase...     61\n",
              "3407  /content/english-handwritten-characters-datase...     61\n",
              "3408  /content/english-handwritten-characters-datase...     61\n",
              "3409  /content/english-handwritten-characters-datase...     61\n",
              "\n",
              "[3410 rows x 2 columns]"
            ],
            "text/html": [
              "\n",
              "  <div id=\"df-a386e3d7-ce7b-4ad9-98a0-86b8ffed9ad1\" class=\"colab-df-container\">\n",
              "    <div>\n",
              "<style scoped>\n",
              "    .dataframe tbody tr th:only-of-type {\n",
              "        vertical-align: middle;\n",
              "    }\n",
              "\n",
              "    .dataframe tbody tr th {\n",
              "        vertical-align: top;\n",
              "    }\n",
              "\n",
              "    .dataframe thead th {\n",
              "        text-align: right;\n",
              "    }\n",
              "</style>\n",
              "<table border=\"1\" class=\"dataframe\">\n",
              "  <thead>\n",
              "    <tr style=\"text-align: right;\">\n",
              "      <th></th>\n",
              "      <th>image</th>\n",
              "      <th>label</th>\n",
              "    </tr>\n",
              "  </thead>\n",
              "  <tbody>\n",
              "    <tr>\n",
              "      <th>0</th>\n",
              "      <td>/content/english-handwritten-characters-datase...</td>\n",
              "      <td>0</td>\n",
              "    </tr>\n",
              "    <tr>\n",
              "      <th>1</th>\n",
              "      <td>/content/english-handwritten-characters-datase...</td>\n",
              "      <td>0</td>\n",
              "    </tr>\n",
              "    <tr>\n",
              "      <th>2</th>\n",
              "      <td>/content/english-handwritten-characters-datase...</td>\n",
              "      <td>0</td>\n",
              "    </tr>\n",
              "    <tr>\n",
              "      <th>3</th>\n",
              "      <td>/content/english-handwritten-characters-datase...</td>\n",
              "      <td>0</td>\n",
              "    </tr>\n",
              "    <tr>\n",
              "      <th>4</th>\n",
              "      <td>/content/english-handwritten-characters-datase...</td>\n",
              "      <td>0</td>\n",
              "    </tr>\n",
              "    <tr>\n",
              "      <th>...</th>\n",
              "      <td>...</td>\n",
              "      <td>...</td>\n",
              "    </tr>\n",
              "    <tr>\n",
              "      <th>3405</th>\n",
              "      <td>/content/english-handwritten-characters-datase...</td>\n",
              "      <td>61</td>\n",
              "    </tr>\n",
              "    <tr>\n",
              "      <th>3406</th>\n",
              "      <td>/content/english-handwritten-characters-datase...</td>\n",
              "      <td>61</td>\n",
              "    </tr>\n",
              "    <tr>\n",
              "      <th>3407</th>\n",
              "      <td>/content/english-handwritten-characters-datase...</td>\n",
              "      <td>61</td>\n",
              "    </tr>\n",
              "    <tr>\n",
              "      <th>3408</th>\n",
              "      <td>/content/english-handwritten-characters-datase...</td>\n",
              "      <td>61</td>\n",
              "    </tr>\n",
              "    <tr>\n",
              "      <th>3409</th>\n",
              "      <td>/content/english-handwritten-characters-datase...</td>\n",
              "      <td>61</td>\n",
              "    </tr>\n",
              "  </tbody>\n",
              "</table>\n",
              "<p>3410 rows × 2 columns</p>\n",
              "</div>\n",
              "    <div class=\"colab-df-buttons\">\n",
              "\n",
              "  <div class=\"colab-df-container\">\n",
              "    <button class=\"colab-df-convert\" onclick=\"convertToInteractive('df-a386e3d7-ce7b-4ad9-98a0-86b8ffed9ad1')\"\n",
              "            title=\"Convert this dataframe to an interactive table.\"\n",
              "            style=\"display:none;\">\n",
              "\n",
              "  <svg xmlns=\"http://www.w3.org/2000/svg\" height=\"24px\" viewBox=\"0 -960 960 960\">\n",
              "    <path d=\"M120-120v-720h720v720H120Zm60-500h600v-160H180v160Zm220 220h160v-160H400v160Zm0 220h160v-160H400v160ZM180-400h160v-160H180v160Zm440 0h160v-160H620v160ZM180-180h160v-160H180v160Zm440 0h160v-160H620v160Z\"/>\n",
              "  </svg>\n",
              "    </button>\n",
              "\n",
              "  <style>\n",
              "    .colab-df-container {\n",
              "      display:flex;\n",
              "      gap: 12px;\n",
              "    }\n",
              "\n",
              "    .colab-df-convert {\n",
              "      background-color: #E8F0FE;\n",
              "      border: none;\n",
              "      border-radius: 50%;\n",
              "      cursor: pointer;\n",
              "      display: none;\n",
              "      fill: #1967D2;\n",
              "      height: 32px;\n",
              "      padding: 0 0 0 0;\n",
              "      width: 32px;\n",
              "    }\n",
              "\n",
              "    .colab-df-convert:hover {\n",
              "      background-color: #E2EBFA;\n",
              "      box-shadow: 0px 1px 2px rgba(60, 64, 67, 0.3), 0px 1px 3px 1px rgba(60, 64, 67, 0.15);\n",
              "      fill: #174EA6;\n",
              "    }\n",
              "\n",
              "    .colab-df-buttons div {\n",
              "      margin-bottom: 4px;\n",
              "    }\n",
              "\n",
              "    [theme=dark] .colab-df-convert {\n",
              "      background-color: #3B4455;\n",
              "      fill: #D2E3FC;\n",
              "    }\n",
              "\n",
              "    [theme=dark] .colab-df-convert:hover {\n",
              "      background-color: #434B5C;\n",
              "      box-shadow: 0px 1px 3px 1px rgba(0, 0, 0, 0.15);\n",
              "      filter: drop-shadow(0px 1px 2px rgba(0, 0, 0, 0.3));\n",
              "      fill: #FFFFFF;\n",
              "    }\n",
              "  </style>\n",
              "\n",
              "    <script>\n",
              "      const buttonEl =\n",
              "        document.querySelector('#df-a386e3d7-ce7b-4ad9-98a0-86b8ffed9ad1 button.colab-df-convert');\n",
              "      buttonEl.style.display =\n",
              "        google.colab.kernel.accessAllowed ? 'block' : 'none';\n",
              "\n",
              "      async function convertToInteractive(key) {\n",
              "        const element = document.querySelector('#df-a386e3d7-ce7b-4ad9-98a0-86b8ffed9ad1');\n",
              "        const dataTable =\n",
              "          await google.colab.kernel.invokeFunction('convertToInteractive',\n",
              "                                                    [key], {});\n",
              "        if (!dataTable) return;\n",
              "\n",
              "        const docLinkHtml = 'Like what you see? Visit the ' +\n",
              "          '<a target=\"_blank\" href=https://colab.research.google.com/notebooks/data_table.ipynb>data table notebook</a>'\n",
              "          + ' to learn more about interactive tables.';\n",
              "        element.innerHTML = '';\n",
              "        dataTable['output_type'] = 'display_data';\n",
              "        await google.colab.output.renderOutput(dataTable, element);\n",
              "        const docLink = document.createElement('div');\n",
              "        docLink.innerHTML = docLinkHtml;\n",
              "        element.appendChild(docLink);\n",
              "      }\n",
              "    </script>\n",
              "  </div>\n",
              "\n",
              "\n",
              "<div id=\"df-be83c672-7fab-45d8-81be-fbf11f5b751e\">\n",
              "  <button class=\"colab-df-quickchart\" onclick=\"quickchart('df-be83c672-7fab-45d8-81be-fbf11f5b751e')\"\n",
              "            title=\"Suggest charts\"\n",
              "            style=\"display:none;\">\n",
              "\n",
              "<svg xmlns=\"http://www.w3.org/2000/svg\" height=\"24px\"viewBox=\"0 0 24 24\"\n",
              "     width=\"24px\">\n",
              "    <g>\n",
              "        <path d=\"M19 3H5c-1.1 0-2 .9-2 2v14c0 1.1.9 2 2 2h14c1.1 0 2-.9 2-2V5c0-1.1-.9-2-2-2zM9 17H7v-7h2v7zm4 0h-2V7h2v10zm4 0h-2v-4h2v4z\"/>\n",
              "    </g>\n",
              "</svg>\n",
              "  </button>\n",
              "\n",
              "<style>\n",
              "  .colab-df-quickchart {\n",
              "      --bg-color: #E8F0FE;\n",
              "      --fill-color: #1967D2;\n",
              "      --hover-bg-color: #E2EBFA;\n",
              "      --hover-fill-color: #174EA6;\n",
              "      --disabled-fill-color: #AAA;\n",
              "      --disabled-bg-color: #DDD;\n",
              "  }\n",
              "\n",
              "  [theme=dark] .colab-df-quickchart {\n",
              "      --bg-color: #3B4455;\n",
              "      --fill-color: #D2E3FC;\n",
              "      --hover-bg-color: #434B5C;\n",
              "      --hover-fill-color: #FFFFFF;\n",
              "      --disabled-bg-color: #3B4455;\n",
              "      --disabled-fill-color: #666;\n",
              "  }\n",
              "\n",
              "  .colab-df-quickchart {\n",
              "    background-color: var(--bg-color);\n",
              "    border: none;\n",
              "    border-radius: 50%;\n",
              "    cursor: pointer;\n",
              "    display: none;\n",
              "    fill: var(--fill-color);\n",
              "    height: 32px;\n",
              "    padding: 0;\n",
              "    width: 32px;\n",
              "  }\n",
              "\n",
              "  .colab-df-quickchart:hover {\n",
              "    background-color: var(--hover-bg-color);\n",
              "    box-shadow: 0 1px 2px rgba(60, 64, 67, 0.3), 0 1px 3px 1px rgba(60, 64, 67, 0.15);\n",
              "    fill: var(--button-hover-fill-color);\n",
              "  }\n",
              "\n",
              "  .colab-df-quickchart-complete:disabled,\n",
              "  .colab-df-quickchart-complete:disabled:hover {\n",
              "    background-color: var(--disabled-bg-color);\n",
              "    fill: var(--disabled-fill-color);\n",
              "    box-shadow: none;\n",
              "  }\n",
              "\n",
              "  .colab-df-spinner {\n",
              "    border: 2px solid var(--fill-color);\n",
              "    border-color: transparent;\n",
              "    border-bottom-color: var(--fill-color);\n",
              "    animation:\n",
              "      spin 1s steps(1) infinite;\n",
              "  }\n",
              "\n",
              "  @keyframes spin {\n",
              "    0% {\n",
              "      border-color: transparent;\n",
              "      border-bottom-color: var(--fill-color);\n",
              "      border-left-color: var(--fill-color);\n",
              "    }\n",
              "    20% {\n",
              "      border-color: transparent;\n",
              "      border-left-color: var(--fill-color);\n",
              "      border-top-color: var(--fill-color);\n",
              "    }\n",
              "    30% {\n",
              "      border-color: transparent;\n",
              "      border-left-color: var(--fill-color);\n",
              "      border-top-color: var(--fill-color);\n",
              "      border-right-color: var(--fill-color);\n",
              "    }\n",
              "    40% {\n",
              "      border-color: transparent;\n",
              "      border-right-color: var(--fill-color);\n",
              "      border-top-color: var(--fill-color);\n",
              "    }\n",
              "    60% {\n",
              "      border-color: transparent;\n",
              "      border-right-color: var(--fill-color);\n",
              "    }\n",
              "    80% {\n",
              "      border-color: transparent;\n",
              "      border-right-color: var(--fill-color);\n",
              "      border-bottom-color: var(--fill-color);\n",
              "    }\n",
              "    90% {\n",
              "      border-color: transparent;\n",
              "      border-bottom-color: var(--fill-color);\n",
              "    }\n",
              "  }\n",
              "</style>\n",
              "\n",
              "  <script>\n",
              "    async function quickchart(key) {\n",
              "      const quickchartButtonEl =\n",
              "        document.querySelector('#' + key + ' button');\n",
              "      quickchartButtonEl.disabled = true;  // To prevent multiple clicks.\n",
              "      quickchartButtonEl.classList.add('colab-df-spinner');\n",
              "      try {\n",
              "        const charts = await google.colab.kernel.invokeFunction(\n",
              "            'suggestCharts', [key], {});\n",
              "      } catch (error) {\n",
              "        console.error('Error during call to suggestCharts:', error);\n",
              "      }\n",
              "      quickchartButtonEl.classList.remove('colab-df-spinner');\n",
              "      quickchartButtonEl.classList.add('colab-df-quickchart-complete');\n",
              "    }\n",
              "    (() => {\n",
              "      let quickchartButtonEl =\n",
              "        document.querySelector('#df-be83c672-7fab-45d8-81be-fbf11f5b751e button');\n",
              "      quickchartButtonEl.style.display =\n",
              "        google.colab.kernel.accessAllowed ? 'block' : 'none';\n",
              "    })();\n",
              "  </script>\n",
              "</div>\n",
              "    </div>\n",
              "  </div>\n"
            ],
            "application/vnd.google.colaboratory.intrinsic+json": {
              "type": "dataframe",
              "variable_name": "df",
              "summary": "{\n  \"name\": \"df\",\n  \"rows\": 3410,\n  \"fields\": [\n    {\n      \"column\": \"image\",\n      \"properties\": {\n        \"dtype\": \"string\",\n        \"num_unique_values\": 3410,\n        \"samples\": [\n          \"/content/english-handwritten-characters-dataset/Img/img058-001.png\",\n          \"/content/english-handwritten-characters-dataset/Img/img033-030.png\",\n          \"/content/english-handwritten-characters-dataset/Img/img004-006.png\"\n        ],\n        \"semantic_type\": \"\",\n        \"description\": \"\"\n      }\n    },\n    {\n      \"column\": \"label\",\n      \"properties\": {\n        \"dtype\": \"number\",\n        \"std\": 17,\n        \"min\": 0,\n        \"max\": 61,\n        \"num_unique_values\": 62,\n        \"samples\": [\n          50,\n          56,\n          0\n        ],\n        \"semantic_type\": \"\",\n        \"description\": \"\"\n      }\n    }\n  ]\n}"
            }
          },
          "metadata": {},
          "execution_count": 10
        }
      ]
    },
    {
      "cell_type": "code",
      "source": [
        "images = []\n",
        "labels = []\n",
        "\n",
        "def imageLoad(row):\n",
        "  path = row['image']\n",
        "  img = cv2.imread(path)\n",
        "  img = cv2.cvtColor(img,cv2.COLOR_BGR2GRAY)\n",
        "  img = cv2.resize(img,(100,100))\n",
        "  images.append(img)\n",
        "  labels.append(row['label'])\n"
      ],
      "metadata": {
        "id": "MDYDfSzA2RZx"
      },
      "execution_count": null,
      "outputs": []
    },
    {
      "cell_type": "code",
      "source": [
        "df.apply(imageLoad,axis=1)"
      ],
      "metadata": {
        "colab": {
          "base_uri": "https://localhost:8080/"
        },
        "id": "ma2duAFf2ylG",
        "outputId": "e44dc121-3a70-4c92-c83b-87b5b1e096c2"
      },
      "execution_count": null,
      "outputs": [
        {
          "output_type": "execute_result",
          "data": {
            "text/plain": [
              "0       None\n",
              "1       None\n",
              "2       None\n",
              "3       None\n",
              "4       None\n",
              "        ... \n",
              "3405    None\n",
              "3406    None\n",
              "3407    None\n",
              "3408    None\n",
              "3409    None\n",
              "Length: 3410, dtype: object"
            ]
          },
          "metadata": {},
          "execution_count": 12
        }
      ]
    },
    {
      "cell_type": "code",
      "source": [
        "from sklearn.model_selection import train_test_split\n",
        "X_train, X_test, y_train, y_test = train_test_split(images,labels , random_state=102,  test_size=0.20,  shuffle=True)"
      ],
      "metadata": {
        "id": "jRotSJw1BNm3"
      },
      "execution_count": null,
      "outputs": []
    },
    {
      "cell_type": "code",
      "source": [
        "from sklearn.linear_model import Perceptron\n",
        "import numpy as np\n",
        "X_train = np.array(X_train)\n",
        "X_test = np.array(X_test)\n",
        "\n",
        "# Reshape input data\n",
        "X_train = X_train.reshape(X_train.shape[0], -1)\n",
        "X_test = X_test.reshape(X_test.shape[0], -1)\n",
        "# Training the PLA model\n",
        "pla_model = Perceptron(max_iter=100, eta0=0.1)\n",
        "pla_model.fit(X_train, y_train)\n",
        "\n",
        "# Predictions on test set\n",
        "y_pred = pla_model.predict(X_test)\n"
      ],
      "metadata": {
        "id": "2W-jDW-WFw3c"
      },
      "execution_count": null,
      "outputs": []
    },
    {
      "cell_type": "code",
      "source": [
        "from sklearn.metrics import accuracy_score\n",
        "# Calculate accuracy\n",
        "accuracy = accuracy_score(y_test, y_pred)\n",
        "print(\"Accuracy:\", accuracy)"
      ],
      "metadata": {
        "colab": {
          "base_uri": "https://localhost:8080/"
        },
        "id": "xg13WktwI47o",
        "outputId": "bbc471ec-62f9-4b3d-bb93-3746703dd0ec"
      },
      "execution_count": null,
      "outputs": [
        {
          "output_type": "stream",
          "name": "stdout",
          "text": [
            "Accuracy: 0.13636363636363635\n"
          ]
        }
      ]
    },
    {
      "cell_type": "code",
      "source": [
        "import tensorflow as tf\n",
        "\n",
        "X_train = tf.convert_to_tensor(X_train)\n",
        "\n",
        "X_test = tf.convert_to_tensor(X_test)\n",
        "y_train = tf.convert_to_tensor(y_train)\n",
        "y_test = tf.convert_to_tensor(y_test)"
      ],
      "metadata": {
        "id": "j54iApak_pGL"
      },
      "execution_count": null,
      "outputs": []
    },
    {
      "cell_type": "code",
      "source": [
        "X_train = X_train/255\n",
        "X_test = X_test/255"
      ],
      "metadata": {
        "id": "nhCX5avMABX6"
      },
      "execution_count": null,
      "outputs": []
    },
    {
      "cell_type": "code",
      "source": [
        "import tensorflow as tf\n",
        "\n",
        "from tensorflow.keras import datasets, layers, models\n",
        "import matplotlib.pyplot as plt"
      ],
      "metadata": {
        "id": "bWLc6KprAN4w"
      },
      "execution_count": null,
      "outputs": []
    },
    {
      "cell_type": "code",
      "source": [
        "model = models.Sequential()\n",
        "model.add(layers.Flatten(input_shape=(100,100,1)))\n",
        "model.add(layers.Dense(728,activation='relu'))\n",
        "model.add(layers.Dense(500,activation='relu'))\n",
        "model.add(layers.Dense(200,activation='relu'))\n",
        "model.add(layers.Dense(100,activation='relu'))\n",
        "model.add(layers.Dense(60,activation='relu'))\n",
        "model.add(layers.Dense(62,activation='softmax'))\n"
      ],
      "metadata": {
        "id": "WHNnMiYyASK8"
      },
      "execution_count": null,
      "outputs": []
    },
    {
      "cell_type": "code",
      "source": [
        "model.summary()"
      ],
      "metadata": {
        "colab": {
          "base_uri": "https://localhost:8080/"
        },
        "id": "4M5hCgx7AYz-",
        "outputId": "c4c9bb64-7806-4911-a939-882c946e9e1d"
      },
      "execution_count": null,
      "outputs": [
        {
          "output_type": "stream",
          "name": "stdout",
          "text": [
            "Model: \"sequential\"\n",
            "_________________________________________________________________\n",
            " Layer (type)                Output Shape              Param #   \n",
            "=================================================================\n",
            " flatten (Flatten)           (None, 10000)             0         \n",
            "                                                                 \n",
            " dense (Dense)               (None, 728)               7280728   \n",
            "                                                                 \n",
            " dense_1 (Dense)             (None, 500)               364500    \n",
            "                                                                 \n",
            " dense_2 (Dense)             (None, 200)               100200    \n",
            "                                                                 \n",
            " dense_3 (Dense)             (None, 100)               20100     \n",
            "                                                                 \n",
            " dense_4 (Dense)             (None, 60)                6060      \n",
            "                                                                 \n",
            " dense_5 (Dense)             (None, 62)                3782      \n",
            "                                                                 \n",
            "=================================================================\n",
            "Total params: 7775370 (29.66 MB)\n",
            "Trainable params: 7775370 (29.66 MB)\n",
            "Non-trainable params: 0 (0.00 Byte)\n",
            "_________________________________________________________________\n"
          ]
        }
      ]
    },
    {
      "cell_type": "code",
      "source": [
        "model.compile(loss='sparse_categorical_crossentropy', optimizer='sgd', metrics=['accuracy'])"
      ],
      "metadata": {
        "id": "ympfadhZJWch"
      },
      "execution_count": null,
      "outputs": []
    },
    {
      "cell_type": "code",
      "source": [
        "history = model.fit(X_train, y_train, epochs=150,\n",
        "                    validation_data=(X_test, y_test))"
      ],
      "metadata": {
        "colab": {
          "base_uri": "https://localhost:8080/"
        },
        "id": "mGTwP6E2CjjM",
        "outputId": "44d49cc2-1f41-4c7b-eb45-f14141daf293"
      },
      "execution_count": null,
      "outputs": [
        {
          "output_type": "stream",
          "name": "stdout",
          "text": [
            "Epoch 1/150\n",
            "86/86 [==============================] - 3s 10ms/step - loss: 4.1416 - accuracy: 0.0202 - val_loss: 4.1454 - val_accuracy: 0.0059\n",
            "Epoch 2/150\n",
            "86/86 [==============================] - 1s 6ms/step - loss: 4.1262 - accuracy: 0.0216 - val_loss: 4.1281 - val_accuracy: 0.0308\n",
            "Epoch 3/150\n",
            "86/86 [==============================] - 1s 6ms/step - loss: 4.1206 - accuracy: 0.0216 - val_loss: 4.1440 - val_accuracy: 0.0147\n",
            "Epoch 4/150\n",
            "86/86 [==============================] - 1s 6ms/step - loss: 4.1135 - accuracy: 0.0257 - val_loss: 4.1472 - val_accuracy: 0.0220\n",
            "Epoch 5/150\n",
            "86/86 [==============================] - 1s 7ms/step - loss: 4.1049 - accuracy: 0.0312 - val_loss: 4.1259 - val_accuracy: 0.0308\n",
            "Epoch 6/150\n",
            "86/86 [==============================] - 1s 6ms/step - loss: 4.0889 - accuracy: 0.0348 - val_loss: 4.1628 - val_accuracy: 0.0176\n",
            "Epoch 7/150\n",
            "86/86 [==============================] - 0s 6ms/step - loss: 4.0692 - accuracy: 0.0345 - val_loss: 4.1298 - val_accuracy: 0.0205\n",
            "Epoch 8/150\n",
            "86/86 [==============================] - 1s 6ms/step - loss: 4.0421 - accuracy: 0.0378 - val_loss: 4.1134 - val_accuracy: 0.0235\n",
            "Epoch 9/150\n",
            "86/86 [==============================] - 1s 6ms/step - loss: 4.0279 - accuracy: 0.0433 - val_loss: 4.1668 - val_accuracy: 0.0293\n",
            "Epoch 10/150\n",
            "86/86 [==============================] - 1s 6ms/step - loss: 4.0000 - accuracy: 0.0455 - val_loss: 4.0894 - val_accuracy: 0.0191\n",
            "Epoch 11/150\n",
            "86/86 [==============================] - 1s 8ms/step - loss: 3.9619 - accuracy: 0.0539 - val_loss: 3.9705 - val_accuracy: 0.0396\n",
            "Epoch 12/150\n",
            "86/86 [==============================] - 1s 9ms/step - loss: 3.9064 - accuracy: 0.0535 - val_loss: 4.1088 - val_accuracy: 0.0308\n",
            "Epoch 13/150\n",
            "86/86 [==============================] - 1s 9ms/step - loss: 3.8658 - accuracy: 0.0660 - val_loss: 4.1356 - val_accuracy: 0.0132\n",
            "Epoch 14/150\n",
            "86/86 [==============================] - 1s 6ms/step - loss: 3.8227 - accuracy: 0.0722 - val_loss: 3.8409 - val_accuracy: 0.0601\n",
            "Epoch 15/150\n",
            "86/86 [==============================] - 1s 7ms/step - loss: 3.7845 - accuracy: 0.0718 - val_loss: 4.0232 - val_accuracy: 0.0205\n",
            "Epoch 16/150\n",
            "86/86 [==============================] - 1s 6ms/step - loss: 3.7399 - accuracy: 0.0740 - val_loss: 3.8692 - val_accuracy: 0.0513\n",
            "Epoch 17/150\n",
            "86/86 [==============================] - 1s 7ms/step - loss: 3.6648 - accuracy: 0.0865 - val_loss: 4.0219 - val_accuracy: 0.0367\n",
            "Epoch 18/150\n",
            "86/86 [==============================] - 1s 6ms/step - loss: 3.6245 - accuracy: 0.0887 - val_loss: 4.3906 - val_accuracy: 0.0323\n",
            "Epoch 19/150\n",
            "86/86 [==============================] - 1s 6ms/step - loss: 3.5965 - accuracy: 0.1092 - val_loss: 3.8973 - val_accuracy: 0.0674\n",
            "Epoch 20/150\n",
            "86/86 [==============================] - 1s 6ms/step - loss: 3.5499 - accuracy: 0.1085 - val_loss: 3.8423 - val_accuracy: 0.0396\n",
            "Epoch 21/150\n",
            "86/86 [==============================] - 1s 7ms/step - loss: 3.4656 - accuracy: 0.1320 - val_loss: 4.1204 - val_accuracy: 0.0381\n",
            "Epoch 22/150\n",
            "86/86 [==============================] - 1s 6ms/step - loss: 3.4105 - accuracy: 0.1356 - val_loss: 4.7910 - val_accuracy: 0.0235\n",
            "Epoch 23/150\n",
            "86/86 [==============================] - 1s 6ms/step - loss: 3.4139 - accuracy: 0.1393 - val_loss: 3.8163 - val_accuracy: 0.0411\n",
            "Epoch 24/150\n",
            "86/86 [==============================] - 1s 6ms/step - loss: 3.3273 - accuracy: 0.1463 - val_loss: 4.6695 - val_accuracy: 0.0235\n",
            "Epoch 25/150\n",
            "86/86 [==============================] - 1s 7ms/step - loss: 3.2885 - accuracy: 0.1551 - val_loss: 3.9699 - val_accuracy: 0.0850\n",
            "Epoch 26/150\n",
            "86/86 [==============================] - 1s 10ms/step - loss: 3.2599 - accuracy: 0.1551 - val_loss: 3.8787 - val_accuracy: 0.0572\n",
            "Epoch 27/150\n",
            "86/86 [==============================] - 1s 11ms/step - loss: 3.1647 - accuracy: 0.1833 - val_loss: 3.3848 - val_accuracy: 0.1276\n",
            "Epoch 28/150\n",
            "86/86 [==============================] - 1s 8ms/step - loss: 3.1711 - accuracy: 0.1859 - val_loss: 3.6877 - val_accuracy: 0.0601\n",
            "Epoch 29/150\n",
            "86/86 [==============================] - 1s 6ms/step - loss: 3.1305 - accuracy: 0.1870 - val_loss: 3.6558 - val_accuracy: 0.0821\n",
            "Epoch 30/150\n",
            "86/86 [==============================] - 1s 8ms/step - loss: 3.0442 - accuracy: 0.2075 - val_loss: 3.6616 - val_accuracy: 0.0982\n",
            "Epoch 31/150\n",
            "86/86 [==============================] - 1s 9ms/step - loss: 2.9874 - accuracy: 0.2163 - val_loss: 3.1847 - val_accuracy: 0.1510\n",
            "Epoch 32/150\n",
            "86/86 [==============================] - 1s 10ms/step - loss: 2.9540 - accuracy: 0.2254 - val_loss: 3.5115 - val_accuracy: 0.1173\n",
            "Epoch 33/150\n",
            "86/86 [==============================] - 1s 10ms/step - loss: 2.9512 - accuracy: 0.2302 - val_loss: 3.8399 - val_accuracy: 0.0762\n",
            "Epoch 34/150\n",
            "86/86 [==============================] - 1s 12ms/step - loss: 2.9468 - accuracy: 0.2313 - val_loss: 3.1128 - val_accuracy: 0.2067\n",
            "Epoch 35/150\n",
            "86/86 [==============================] - 1s 7ms/step - loss: 2.8623 - accuracy: 0.2375 - val_loss: 3.1387 - val_accuracy: 0.1848\n",
            "Epoch 36/150\n",
            "86/86 [==============================] - 1s 6ms/step - loss: 2.7876 - accuracy: 0.2606 - val_loss: 3.9580 - val_accuracy: 0.1026\n",
            "Epoch 37/150\n",
            "86/86 [==============================] - 1s 6ms/step - loss: 2.7789 - accuracy: 0.2676 - val_loss: 3.2017 - val_accuracy: 0.1877\n",
            "Epoch 38/150\n",
            "86/86 [==============================] - 1s 6ms/step - loss: 2.7134 - accuracy: 0.2837 - val_loss: 3.3019 - val_accuracy: 0.1686\n",
            "Epoch 39/150\n",
            "86/86 [==============================] - 1s 6ms/step - loss: 2.6965 - accuracy: 0.2823 - val_loss: 3.1451 - val_accuracy: 0.1437\n",
            "Epoch 40/150\n",
            "86/86 [==============================] - 1s 6ms/step - loss: 2.6375 - accuracy: 0.2823 - val_loss: 3.8246 - val_accuracy: 0.1188\n",
            "Epoch 41/150\n",
            "86/86 [==============================] - 1s 6ms/step - loss: 2.6319 - accuracy: 0.3006 - val_loss: 3.3568 - val_accuracy: 0.1510\n",
            "Epoch 42/150\n",
            "86/86 [==============================] - 1s 6ms/step - loss: 2.5373 - accuracy: 0.3174 - val_loss: 4.9953 - val_accuracy: 0.0674\n",
            "Epoch 43/150\n",
            "86/86 [==============================] - 1s 6ms/step - loss: 2.6071 - accuracy: 0.3120 - val_loss: 2.7212 - val_accuracy: 0.2463\n",
            "Epoch 44/150\n",
            "86/86 [==============================] - 1s 6ms/step - loss: 2.4982 - accuracy: 0.3163 - val_loss: 3.2474 - val_accuracy: 0.1774\n",
            "Epoch 45/150\n",
            "86/86 [==============================] - 1s 6ms/step - loss: 2.4092 - accuracy: 0.3369 - val_loss: 3.8914 - val_accuracy: 0.1129\n",
            "Epoch 46/150\n",
            "86/86 [==============================] - 1s 6ms/step - loss: 2.3953 - accuracy: 0.3607 - val_loss: 3.1384 - val_accuracy: 0.1950\n",
            "Epoch 47/150\n",
            "86/86 [==============================] - 1s 6ms/step - loss: 2.3300 - accuracy: 0.3622 - val_loss: 4.9381 - val_accuracy: 0.0909\n",
            "Epoch 48/150\n",
            "86/86 [==============================] - 1s 6ms/step - loss: 2.3915 - accuracy: 0.3677 - val_loss: 3.0651 - val_accuracy: 0.2185\n",
            "Epoch 49/150\n",
            "86/86 [==============================] - 1s 8ms/step - loss: 2.2766 - accuracy: 0.3768 - val_loss: 3.1245 - val_accuracy: 0.2053\n",
            "Epoch 50/150\n",
            "86/86 [==============================] - 1s 9ms/step - loss: 2.2483 - accuracy: 0.3812 - val_loss: 3.3108 - val_accuracy: 0.1554\n",
            "Epoch 51/150\n",
            "86/86 [==============================] - 1s 9ms/step - loss: 2.2424 - accuracy: 0.3743 - val_loss: 4.0794 - val_accuracy: 0.0968\n",
            "Epoch 52/150\n",
            "86/86 [==============================] - 1s 7ms/step - loss: 2.1924 - accuracy: 0.3893 - val_loss: 4.1083 - val_accuracy: 0.1129\n",
            "Epoch 53/150\n",
            "86/86 [==============================] - 1s 10ms/step - loss: 2.1369 - accuracy: 0.4080 - val_loss: 4.1584 - val_accuracy: 0.1422\n",
            "Epoch 54/150\n",
            "86/86 [==============================] - 1s 9ms/step - loss: 2.1389 - accuracy: 0.4084 - val_loss: 2.6771 - val_accuracy: 0.2991\n",
            "Epoch 55/150\n",
            "86/86 [==============================] - 1s 9ms/step - loss: 2.0451 - accuracy: 0.4333 - val_loss: 2.7811 - val_accuracy: 0.2551\n",
            "Epoch 56/150\n",
            "86/86 [==============================] - 1s 10ms/step - loss: 2.0755 - accuracy: 0.4087 - val_loss: 2.5747 - val_accuracy: 0.2874\n",
            "Epoch 57/150\n",
            "86/86 [==============================] - 1s 10ms/step - loss: 1.9663 - accuracy: 0.4391 - val_loss: 4.5091 - val_accuracy: 0.1378\n",
            "Epoch 58/150\n",
            "86/86 [==============================] - 1s 7ms/step - loss: 2.0388 - accuracy: 0.4329 - val_loss: 3.1545 - val_accuracy: 0.2258\n",
            "Epoch 59/150\n",
            "86/86 [==============================] - 1s 6ms/step - loss: 1.9235 - accuracy: 0.4575 - val_loss: 2.9707 - val_accuracy: 0.2507\n",
            "Epoch 60/150\n",
            "86/86 [==============================] - 1s 6ms/step - loss: 1.8706 - accuracy: 0.4622 - val_loss: 2.8274 - val_accuracy: 0.2874\n",
            "Epoch 61/150\n",
            "86/86 [==============================] - 1s 6ms/step - loss: 1.8820 - accuracy: 0.4633 - val_loss: 3.2191 - val_accuracy: 0.2405\n",
            "Epoch 62/150\n",
            "86/86 [==============================] - 1s 6ms/step - loss: 1.8424 - accuracy: 0.4780 - val_loss: 2.6174 - val_accuracy: 0.3123\n",
            "Epoch 63/150\n",
            "86/86 [==============================] - 1s 6ms/step - loss: 1.8073 - accuracy: 0.4930 - val_loss: 2.7936 - val_accuracy: 0.2947\n",
            "Epoch 64/150\n",
            "86/86 [==============================] - 1s 6ms/step - loss: 1.7173 - accuracy: 0.5092 - val_loss: 3.2964 - val_accuracy: 0.2361\n",
            "Epoch 65/150\n",
            "86/86 [==============================] - 1s 6ms/step - loss: 1.6964 - accuracy: 0.5081 - val_loss: 2.9726 - val_accuracy: 0.2698\n",
            "Epoch 66/150\n",
            "86/86 [==============================] - 1s 6ms/step - loss: 1.6631 - accuracy: 0.5139 - val_loss: 3.0425 - val_accuracy: 0.2713\n",
            "Epoch 67/150\n",
            "86/86 [==============================] - 1s 6ms/step - loss: 1.6290 - accuracy: 0.5352 - val_loss: 2.9669 - val_accuracy: 0.2801\n",
            "Epoch 68/150\n",
            "86/86 [==============================] - 1s 9ms/step - loss: 1.6263 - accuracy: 0.5293 - val_loss: 3.5047 - val_accuracy: 0.2053\n",
            "Epoch 69/150\n",
            "86/86 [==============================] - 1s 8ms/step - loss: 1.6182 - accuracy: 0.5312 - val_loss: 3.7342 - val_accuracy: 0.1657\n",
            "Epoch 70/150\n",
            "86/86 [==============================] - 1s 9ms/step - loss: 1.5062 - accuracy: 0.5620 - val_loss: 3.2415 - val_accuracy: 0.2551\n",
            "Epoch 71/150\n",
            "86/86 [==============================] - 1s 6ms/step - loss: 1.5639 - accuracy: 0.5359 - val_loss: 3.5324 - val_accuracy: 0.2141\n",
            "Epoch 72/150\n",
            "86/86 [==============================] - 1s 7ms/step - loss: 1.4842 - accuracy: 0.5605 - val_loss: 2.6954 - val_accuracy: 0.3387\n",
            "Epoch 73/150\n",
            "86/86 [==============================] - 1s 8ms/step - loss: 1.4437 - accuracy: 0.5583 - val_loss: 2.3941 - val_accuracy: 0.3871\n",
            "Epoch 74/150\n",
            "86/86 [==============================] - 1s 9ms/step - loss: 1.4329 - accuracy: 0.5799 - val_loss: 3.2114 - val_accuracy: 0.2786\n",
            "Epoch 75/150\n",
            "86/86 [==============================] - 1s 8ms/step - loss: 1.4120 - accuracy: 0.5755 - val_loss: 2.6363 - val_accuracy: 0.3240\n",
            "Epoch 76/150\n",
            "86/86 [==============================] - 1s 8ms/step - loss: 1.3706 - accuracy: 0.5979 - val_loss: 2.7779 - val_accuracy: 0.3431\n",
            "Epoch 77/150\n",
            "86/86 [==============================] - 1s 9ms/step - loss: 1.3085 - accuracy: 0.6063 - val_loss: 4.5322 - val_accuracy: 0.1466\n",
            "Epoch 78/150\n",
            "86/86 [==============================] - 1s 8ms/step - loss: 1.3540 - accuracy: 0.5935 - val_loss: 2.3883 - val_accuracy: 0.4047\n",
            "Epoch 79/150\n",
            "86/86 [==============================] - 1s 9ms/step - loss: 1.2816 - accuracy: 0.6235 - val_loss: 2.2443 - val_accuracy: 0.4252\n",
            "Epoch 80/150\n",
            "86/86 [==============================] - 1s 9ms/step - loss: 1.2397 - accuracy: 0.6268 - val_loss: 2.4813 - val_accuracy: 0.3974\n",
            "Epoch 81/150\n",
            "86/86 [==============================] - 1s 9ms/step - loss: 1.2075 - accuracy: 0.6338 - val_loss: 3.5409 - val_accuracy: 0.2625\n",
            "Epoch 82/150\n",
            "86/86 [==============================] - 1s 7ms/step - loss: 1.2291 - accuracy: 0.6382 - val_loss: 3.8515 - val_accuracy: 0.2654\n",
            "Epoch 83/150\n",
            "86/86 [==============================] - 1s 6ms/step - loss: 1.3083 - accuracy: 0.6268 - val_loss: 3.1904 - val_accuracy: 0.3109\n",
            "Epoch 84/150\n",
            "86/86 [==============================] - 1s 6ms/step - loss: 1.2005 - accuracy: 0.6371 - val_loss: 2.7785 - val_accuracy: 0.3666\n",
            "Epoch 85/150\n",
            "86/86 [==============================] - 1s 6ms/step - loss: 1.1697 - accuracy: 0.6477 - val_loss: 2.3704 - val_accuracy: 0.4091\n",
            "Epoch 86/150\n",
            "86/86 [==============================] - 1s 8ms/step - loss: 1.0368 - accuracy: 0.6862 - val_loss: 3.8385 - val_accuracy: 0.2419\n",
            "Epoch 87/150\n",
            "86/86 [==============================] - 1s 7ms/step - loss: 1.1398 - accuracy: 0.6525 - val_loss: 3.3092 - val_accuracy: 0.2977\n",
            "Epoch 88/150\n",
            "86/86 [==============================] - 1s 10ms/step - loss: 1.1067 - accuracy: 0.6540 - val_loss: 2.1803 - val_accuracy: 0.4399\n",
            "Epoch 89/150\n",
            "86/86 [==============================] - 1s 7ms/step - loss: 1.0570 - accuracy: 0.6719 - val_loss: 4.4722 - val_accuracy: 0.1935\n",
            "Epoch 90/150\n",
            "86/86 [==============================] - 1s 6ms/step - loss: 1.0203 - accuracy: 0.6848 - val_loss: 3.0469 - val_accuracy: 0.3798\n",
            "Epoch 91/150\n",
            "86/86 [==============================] - 1s 6ms/step - loss: 0.9536 - accuracy: 0.7060 - val_loss: 3.3863 - val_accuracy: 0.2757\n",
            "Epoch 92/150\n",
            "86/86 [==============================] - 1s 6ms/step - loss: 1.0918 - accuracy: 0.6657 - val_loss: 2.2431 - val_accuracy: 0.4501\n",
            "Epoch 93/150\n",
            "86/86 [==============================] - 1s 6ms/step - loss: 0.9101 - accuracy: 0.7122 - val_loss: 2.6488 - val_accuracy: 0.3856\n",
            "Epoch 94/150\n",
            "86/86 [==============================] - 1s 6ms/step - loss: 0.8962 - accuracy: 0.7221 - val_loss: 3.1471 - val_accuracy: 0.3123\n",
            "Epoch 95/150\n",
            "86/86 [==============================] - 1s 6ms/step - loss: 0.9412 - accuracy: 0.7027 - val_loss: 5.2469 - val_accuracy: 0.1862\n",
            "Epoch 96/150\n",
            "86/86 [==============================] - 1s 6ms/step - loss: 1.0950 - accuracy: 0.6840 - val_loss: 3.1250 - val_accuracy: 0.3343\n",
            "Epoch 97/150\n",
            "86/86 [==============================] - 1s 6ms/step - loss: 0.9041 - accuracy: 0.7196 - val_loss: 3.3946 - val_accuracy: 0.3167\n",
            "Epoch 98/150\n",
            "86/86 [==============================] - 1s 6ms/step - loss: 0.8169 - accuracy: 0.7342 - val_loss: 2.2224 - val_accuracy: 0.4839\n",
            "Epoch 99/150\n",
            "86/86 [==============================] - 1s 6ms/step - loss: 0.8148 - accuracy: 0.7434 - val_loss: 2.7293 - val_accuracy: 0.4223\n",
            "Epoch 100/150\n",
            "86/86 [==============================] - 1s 6ms/step - loss: 0.7637 - accuracy: 0.7628 - val_loss: 6.0410 - val_accuracy: 0.1672\n",
            "Epoch 101/150\n",
            "86/86 [==============================] - 1s 6ms/step - loss: 0.9374 - accuracy: 0.7218 - val_loss: 3.0712 - val_accuracy: 0.3431\n",
            "Epoch 102/150\n",
            "86/86 [==============================] - 1s 6ms/step - loss: 0.7546 - accuracy: 0.7617 - val_loss: 2.2399 - val_accuracy: 0.4457\n",
            "Epoch 103/150\n",
            "86/86 [==============================] - 1s 6ms/step - loss: 0.7166 - accuracy: 0.7742 - val_loss: 2.1993 - val_accuracy: 0.4545\n",
            "Epoch 104/150\n",
            "86/86 [==============================] - 1s 6ms/step - loss: 0.6268 - accuracy: 0.8017 - val_loss: 2.2710 - val_accuracy: 0.4765\n",
            "Epoch 105/150\n",
            "86/86 [==============================] - 1s 6ms/step - loss: 0.7774 - accuracy: 0.7654 - val_loss: 4.0407 - val_accuracy: 0.2757\n",
            "Epoch 106/150\n",
            "86/86 [==============================] - 1s 6ms/step - loss: 0.7016 - accuracy: 0.7837 - val_loss: 2.5814 - val_accuracy: 0.4179\n",
            "Epoch 107/150\n",
            "86/86 [==============================] - 1s 8ms/step - loss: 0.6224 - accuracy: 0.8002 - val_loss: 2.4324 - val_accuracy: 0.4384\n",
            "Epoch 108/150\n",
            "86/86 [==============================] - 1s 8ms/step - loss: 0.6232 - accuracy: 0.8076 - val_loss: 4.0477 - val_accuracy: 0.3123\n",
            "Epoch 109/150\n",
            "86/86 [==============================] - 1s 9ms/step - loss: 0.6438 - accuracy: 0.7955 - val_loss: 3.2184 - val_accuracy: 0.3827\n",
            "Epoch 110/150\n",
            "86/86 [==============================] - 1s 9ms/step - loss: 0.7610 - accuracy: 0.7584 - val_loss: 3.6295 - val_accuracy: 0.3035\n",
            "Epoch 111/150\n",
            "86/86 [==============================] - 1s 6ms/step - loss: 0.7107 - accuracy: 0.7900 - val_loss: 2.4807 - val_accuracy: 0.4413\n",
            "Epoch 112/150\n",
            "86/86 [==============================] - 1s 7ms/step - loss: 0.6064 - accuracy: 0.8021 - val_loss: 2.4321 - val_accuracy: 0.4589\n",
            "Epoch 113/150\n",
            "86/86 [==============================] - 1s 6ms/step - loss: 0.7017 - accuracy: 0.7870 - val_loss: 3.0389 - val_accuracy: 0.3255\n",
            "Epoch 114/150\n",
            "86/86 [==============================] - 1s 7ms/step - loss: 0.5635 - accuracy: 0.8281 - val_loss: 2.1111 - val_accuracy: 0.5015\n",
            "Epoch 115/150\n",
            "86/86 [==============================] - 1s 6ms/step - loss: 0.5754 - accuracy: 0.8303 - val_loss: 4.6053 - val_accuracy: 0.1760\n",
            "Epoch 116/150\n",
            "86/86 [==============================] - 1s 7ms/step - loss: 0.7027 - accuracy: 0.7925 - val_loss: 2.2007 - val_accuracy: 0.4780\n",
            "Epoch 117/150\n",
            "86/86 [==============================] - 1s 6ms/step - loss: 0.4173 - accuracy: 0.8706 - val_loss: 5.8207 - val_accuracy: 0.2317\n",
            "Epoch 118/150\n",
            "86/86 [==============================] - 1s 6ms/step - loss: 0.8142 - accuracy: 0.7845 - val_loss: 3.9145 - val_accuracy: 0.2786\n",
            "Epoch 119/150\n",
            "86/86 [==============================] - 1s 7ms/step - loss: 0.5353 - accuracy: 0.8317 - val_loss: 2.6586 - val_accuracy: 0.4472\n",
            "Epoch 120/150\n",
            "86/86 [==============================] - 1s 6ms/step - loss: 0.5066 - accuracy: 0.8490 - val_loss: 3.4009 - val_accuracy: 0.3182\n",
            "Epoch 121/150\n",
            "86/86 [==============================] - 1s 7ms/step - loss: 0.4358 - accuracy: 0.8618 - val_loss: 2.2455 - val_accuracy: 0.4897\n",
            "Epoch 122/150\n",
            "86/86 [==============================] - 1s 6ms/step - loss: 0.4170 - accuracy: 0.8746 - val_loss: 4.0255 - val_accuracy: 0.2991\n",
            "Epoch 123/150\n",
            "86/86 [==============================] - 1s 7ms/step - loss: 0.4508 - accuracy: 0.8702 - val_loss: 2.2515 - val_accuracy: 0.5088\n",
            "Epoch 124/150\n",
            "86/86 [==============================] - 1s 6ms/step - loss: 0.4491 - accuracy: 0.8581 - val_loss: 2.9562 - val_accuracy: 0.4091\n",
            "Epoch 125/150\n",
            "86/86 [==============================] - 1s 6ms/step - loss: 0.3355 - accuracy: 0.8941 - val_loss: 2.7309 - val_accuracy: 0.4853\n",
            "Epoch 126/150\n",
            "86/86 [==============================] - 1s 6ms/step - loss: 0.4532 - accuracy: 0.8457 - val_loss: 4.9230 - val_accuracy: 0.2507\n",
            "Epoch 127/150\n",
            "86/86 [==============================] - 1s 8ms/step - loss: 0.5256 - accuracy: 0.8416 - val_loss: 2.1998 - val_accuracy: 0.5235\n",
            "Epoch 128/150\n",
            "86/86 [==============================] - 1s 8ms/step - loss: 0.3646 - accuracy: 0.8867 - val_loss: 2.3519 - val_accuracy: 0.5205\n",
            "Epoch 129/150\n",
            "86/86 [==============================] - 1s 9ms/step - loss: 0.4980 - accuracy: 0.8625 - val_loss: 2.3537 - val_accuracy: 0.4956\n",
            "Epoch 130/150\n",
            "86/86 [==============================] - 1s 8ms/step - loss: 0.3124 - accuracy: 0.9021 - val_loss: 3.6461 - val_accuracy: 0.3768\n",
            "Epoch 131/150\n",
            "86/86 [==============================] - 1s 6ms/step - loss: 0.3941 - accuracy: 0.8889 - val_loss: 2.9611 - val_accuracy: 0.4413\n",
            "Epoch 132/150\n",
            "86/86 [==============================] - 1s 6ms/step - loss: 0.2359 - accuracy: 0.9304 - val_loss: 2.6316 - val_accuracy: 0.5132\n",
            "Epoch 133/150\n",
            "86/86 [==============================] - 1s 7ms/step - loss: 0.2814 - accuracy: 0.9091 - val_loss: 3.9758 - val_accuracy: 0.3754\n",
            "Epoch 134/150\n",
            "86/86 [==============================] - 1s 6ms/step - loss: 0.5219 - accuracy: 0.8497 - val_loss: 2.2620 - val_accuracy: 0.5337\n",
            "Epoch 135/150\n",
            "86/86 [==============================] - 1s 6ms/step - loss: 0.2185 - accuracy: 0.9359 - val_loss: 2.3272 - val_accuracy: 0.5293\n",
            "Epoch 136/150\n",
            "86/86 [==============================] - 1s 6ms/step - loss: 0.1886 - accuracy: 0.9439 - val_loss: 2.4526 - val_accuracy: 0.5249\n",
            "Epoch 137/150\n",
            "86/86 [==============================] - 1s 6ms/step - loss: 0.1875 - accuracy: 0.9498 - val_loss: 2.6968 - val_accuracy: 0.4765\n",
            "Epoch 138/150\n",
            "86/86 [==============================] - 1s 6ms/step - loss: 0.6426 - accuracy: 0.8574 - val_loss: 3.3935 - val_accuracy: 0.3402\n",
            "Epoch 139/150\n",
            "86/86 [==============================] - 1s 6ms/step - loss: 0.3244 - accuracy: 0.9043 - val_loss: 2.3042 - val_accuracy: 0.5220\n",
            "Epoch 140/150\n",
            "86/86 [==============================] - 1s 6ms/step - loss: 0.1794 - accuracy: 0.9501 - val_loss: 2.3216 - val_accuracy: 0.5469\n",
            "Epoch 141/150\n",
            "86/86 [==============================] - 1s 6ms/step - loss: 0.1511 - accuracy: 0.9608 - val_loss: 2.8853 - val_accuracy: 0.4897\n",
            "Epoch 142/150\n",
            "86/86 [==============================] - 1s 6ms/step - loss: 0.2261 - accuracy: 0.9300 - val_loss: 2.6650 - val_accuracy: 0.5015\n",
            "Epoch 143/150\n",
            "86/86 [==============================] - 1s 6ms/step - loss: 0.2156 - accuracy: 0.9380 - val_loss: 3.4528 - val_accuracy: 0.4076\n",
            "Epoch 144/150\n",
            "86/86 [==============================] - 1s 7ms/step - loss: 0.2267 - accuracy: 0.9329 - val_loss: 2.3868 - val_accuracy: 0.5572\n",
            "Epoch 145/150\n",
            "86/86 [==============================] - 1s 6ms/step - loss: 0.1119 - accuracy: 0.9725 - val_loss: 2.5869 - val_accuracy: 0.5352\n",
            "Epoch 146/150\n",
            "86/86 [==============================] - 1s 7ms/step - loss: 0.7135 - accuracy: 0.8394 - val_loss: 2.8625 - val_accuracy: 0.4765\n",
            "Epoch 147/150\n",
            "86/86 [==============================] - 1s 6ms/step - loss: 0.1740 - accuracy: 0.9545 - val_loss: 3.9231 - val_accuracy: 0.3974\n",
            "Epoch 148/150\n",
            "86/86 [==============================] - 1s 6ms/step - loss: 0.6014 - accuracy: 0.8589 - val_loss: 2.2561 - val_accuracy: 0.5425\n",
            "Epoch 149/150\n",
            "86/86 [==============================] - 1s 8ms/step - loss: 0.1229 - accuracy: 0.9710 - val_loss: 2.3967 - val_accuracy: 0.5352\n",
            "Epoch 150/150\n",
            "86/86 [==============================] - 1s 8ms/step - loss: 0.1246 - accuracy: 0.9710 - val_loss: 2.4863 - val_accuracy: 0.5528\n"
          ]
        }
      ]
    },
    {
      "cell_type": "code",
      "source": [
        "plt.plot(history.history['accuracy'])\n",
        "plt.plot(history.history['val_accuracy'])\n",
        "plt.title('model accuracy')\n",
        "plt.ylabel('accuracy')\n",
        "plt.xlabel('epoch')\n",
        "plt.legend(['train', 'test'], loc='upper left')"
      ],
      "metadata": {
        "colab": {
          "base_uri": "https://localhost:8080/",
          "height": 489
        },
        "id": "wT4HGNNRC4F-",
        "outputId": "6b34d16b-3020-480a-c43e-1f6df8272dc7"
      },
      "execution_count": null,
      "outputs": [
        {
          "output_type": "execute_result",
          "data": {
            "text/plain": [
              "<matplotlib.legend.Legend at 0x7f3a9478b520>"
            ]
          },
          "metadata": {},
          "execution_count": 25
        },
        {
          "output_type": "display_data",
          "data": {
            "text/plain": [
              "<Figure size 640x480 with 1 Axes>"
            ],
            "image/png": "[encoded data removed]"
          },
          "metadata": {}
        }
      ]
    },
    {
      "cell_type": "code",
      "source": [
        "plt.plot(history.history['loss'])\n",
        "plt.plot(history.history['val_loss'])\n",
        "plt.title('model loss')\n",
        "plt.ylabel('loss')\n",
        "plt.xlabel('epoch')\n",
        "plt.legend(['train', 'test'], loc='upper left')"
      ],
      "metadata": {
        "colab": {
          "base_uri": "https://localhost:8080/",
          "height": 489
        },
        "id": "WWB8SJdWEJkQ",
        "outputId": "b2564956-add0-4983-d16b-b04cfb2a52ff"
      },
      "execution_count": null,
      "outputs": [
        {
          "output_type": "execute_result",
          "data": {
            "text/plain": [
              "<matplotlib.legend.Legend at 0x7f3a9471f310>"
            ]
          },
          "metadata": {},
          "execution_count": 26
        },
        {
          "output_type": "display_data",
          "data": {
            "text/plain": [
              "<Figure size 640x480 with 1 Axes>"
            ],
            "image/png": "[encoded data removed]"
          },
          "metadata": {}
        }
      ]
    }
  ]
}