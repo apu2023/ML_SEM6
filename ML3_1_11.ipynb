{
  "cells": [
    {
      "cell_type": "code",
      "source": [
        "!pip install --upgrade keras"
      ],
      "metadata": {
        "colab": {
          "base_uri": "https://localhost:8080/"
        },
        "id": "mXxvPcH4AEnO",
        "outputId": "b4b695f8-0556-46e4-9772-d83800bc58c6"
      },
      "execution_count": null,
      "outputs": [
        {
          "output_type": "stream",
          "name": "stdout",
          "text": [
            "Requirement already satisfied: keras in /usr/local/lib/python3.10/dist-packages (2.15.0)\n",
            "Collecting keras\n",
            "  Downloading keras-3.0.5-py3-none-any.whl (1.0 MB)\n",
            "\u001b[2K     \u001b[90m━━━━━━━━━━━━━━━━━━━━━━━━━━━━━━━━━━━━━━━━\u001b[0m \u001b[32m1.0/1.0 MB\u001b[0m \u001b[31m8.4 MB/s\u001b[0m eta \u001b[36m0:00:00\u001b[0m\n",
            "\u001b[?25hRequirement already satisfied: absl-py in /usr/local/lib/python3.10/dist-packages (from keras) (1.4.0)\n",
            "Requirement already satisfied: numpy in /usr/local/lib/python3.10/dist-packages (from keras) (1.25.2)\n",
            "Requirement already satisfied: rich in /usr/local/lib/python3.10/dist-packages (from keras) (13.7.0)\n",
            "Collecting namex (from keras)\n",
            "  Downloading namex-0.0.7-py3-none-any.whl (5.8 kB)\n",
            "Requirement already satisfied: h5py in /usr/local/lib/python3.10/dist-packages (from keras) (3.9.0)\n",
            "Requirement already satisfied: dm-tree in /usr/local/lib/python3.10/dist-packages (from keras) (0.1.8)\n",
            "Requirement already satisfied: ml-dtypes in /usr/local/lib/python3.10/dist-packages (from keras) (0.2.0)\n",
            "Requirement already satisfied: markdown-it-py>=2.2.0 in /usr/local/lib/python3.10/dist-packages (from rich->keras) (3.0.0)\n",
            "Requirement already satisfied: pygments<3.0.0,>=2.13.0 in /usr/local/lib/python3.10/dist-packages (from rich->keras) (2.16.1)\n",
            "Requirement already satisfied: mdurl~=0.1 in /usr/local/lib/python3.10/dist-packages (from markdown-it-py>=2.2.0->rich->keras) (0.1.2)\n",
            "Installing collected packages: namex, keras\n",
            "  Attempting uninstall: keras\n",
            "    Found existing installation: keras 2.15.0\n",
            "    Uninstalling keras-2.15.0:\n",
            "      Successfully uninstalled keras-2.15.0\n",
            "\u001b[31mERROR: pip's dependency resolver does not currently take into account all the packages that are installed. This behaviour is the source of the following dependency conflicts.\n",
            "tensorflow 2.15.0 requires keras<2.16,>=2.15.0, but you have keras 3.0.5 which is incompatible.\u001b[0m\u001b[31m\n",
            "\u001b[0mSuccessfully installed keras-3.0.5 namex-0.0.7\n"
          ]
        }
      ]
    },
    {
      "cell_type": "markdown",
      "metadata": {
        "id": "D2xcrgyk8S1C"
      },
      "source": [
        "# Classify English Handwritten Characters through CNN"
      ]
    },
    {
      "cell_type": "code",
      "execution_count": null,
      "metadata": {
        "_cell_guid": "b1076dfc-b9ad-4769-8c92-a6c4dae69d19",
        "_kg_hide-output": true,
        "_uuid": "8f2839f25d086af736a60e9eeb907d3b93b6e0e5",
        "trusted": true,
        "id": "cIUmAksf8S1D"
      },
      "outputs": [],
      "source": [
        "import numpy as np\n",
        "import pandas as pd\n",
        "\n",
        "import os\n",
        "for dirname, _, filenames in os.walk('C:/Users/apu/Downloads/Input'):\n",
        "    for filename in filenames:\n",
        "        print(os.path.join(dirname, filename))"
      ]
    },
    {
      "cell_type": "markdown",
      "metadata": {
        "id": "Xk5GBN1e8S1F"
      },
      "source": [
        "# Problem statement\n",
        "The dataset contains 3410 images containing handwritten letters (0-9 numbers, a-z alphabets small and in caps)\n",
        "The goal is to train the model to recognize and predict the characters efficiently and categorize between 62 unique characters\n",
        "\n",
        "I'm trying the classification through CNN\n"
      ]
    },
    {
      "cell_type": "markdown",
      "metadata": {
        "id": "QoCsO9e28S1F"
      },
      "source": [
        "**import the libraries**"
      ]
    },
    {
      "cell_type": "code",
      "execution_count": null,
      "metadata": {
        "trusted": true,
        "id": "TML9gadf8S1G",
        "outputId": "f5f602c2-69bc-4b4a-d015-131c9f62a961",
        "colab": {
          "base_uri": "https://localhost:8080/",
          "height": 384
        }
      },
      "outputs": [
        {
          "output_type": "error",
          "ename": "ModuleNotFoundError",
          "evalue": "No module named 'keras_preprocessing'",
          "traceback": [
            "\u001b[0;31m---------------------------------------------------------------------------\u001b[0m",
            "\u001b[0;31mModuleNotFoundError\u001b[0m                       Traceback (most recent call last)",
            "\u001b[0;32m<ipython-input-4-be69afa0dbfe>\u001b[0m in \u001b[0;36m<cell line: 4>\u001b[0;34m()\u001b[0m\n\u001b[1;32m      2\u001b[0m \u001b[0;32mimport\u001b[0m \u001b[0mrandom\u001b[0m\u001b[0;34m\u001b[0m\u001b[0;34m\u001b[0m\u001b[0m\n\u001b[1;32m      3\u001b[0m \u001b[0;32mimport\u001b[0m \u001b[0mtensorflow\u001b[0m \u001b[0;32mas\u001b[0m \u001b[0mtf\u001b[0m\u001b[0;34m\u001b[0m\u001b[0;34m\u001b[0m\u001b[0m\n\u001b[0;32m----> 4\u001b[0;31m \u001b[0;32mfrom\u001b[0m \u001b[0mkeras_preprocessing\u001b[0m\u001b[0;34m.\u001b[0m\u001b[0mimage\u001b[0m \u001b[0;32mimport\u001b[0m \u001b[0mImageDataGenerator\u001b[0m\u001b[0;34m\u001b[0m\u001b[0;34m\u001b[0m\u001b[0m\n\u001b[0m\u001b[1;32m      5\u001b[0m \u001b[0;32mimport\u001b[0m \u001b[0mmatplotlib\u001b[0m\u001b[0;34m.\u001b[0m\u001b[0mimage\u001b[0m \u001b[0;32mas\u001b[0m \u001b[0mimg\u001b[0m\u001b[0;34m\u001b[0m\u001b[0;34m\u001b[0m\u001b[0m\n\u001b[1;32m      6\u001b[0m \u001b[0;32mimport\u001b[0m \u001b[0mmatplotlib\u001b[0m\u001b[0;34m.\u001b[0m\u001b[0mpyplot\u001b[0m \u001b[0;32mas\u001b[0m \u001b[0mplt\u001b[0m\u001b[0;34m\u001b[0m\u001b[0;34m\u001b[0m\u001b[0m\n",
            "\u001b[0;31mModuleNotFoundError\u001b[0m: No module named 'keras_preprocessing'",
            "",
            "\u001b[0;31m---------------------------------------------------------------------------\u001b[0;32m\nNOTE: If your import is failing due to a missing package, you can\nmanually install dependencies using either !pip or !apt.\n\nTo view examples of installing some common dependencies, click the\n\"Open Examples\" button below.\n\u001b[0;31m---------------------------------------------------------------------------\u001b[0m\n"
          ],
          "errorDetails": {
            "actions": [
              {
                "action": "open_url",
                "actionText": "Open Examples",
                "url": "/notebooks/snippets/importing_libraries.ipynb"
              }
            ]
          }
        }
      ],
      "source": [
        "import pandas\n",
        "import random\n",
        "import tensorflow as tf\n",
        "from keras_preprocessing.image import ImageDataGenerator\n",
        "import matplotlib.image as img\n",
        "import matplotlib.pyplot as plt"
      ]
    },
    {
      "cell_type": "markdown",
      "metadata": {
        "id": "-Z9ji8Bm8S1G"
      },
      "source": [
        "# Split the dataset\n",
        "In this step, we'll split the data into 3 datasets - training set, validation test and test set\n",
        "Out of total 3410 images, 2910 to training set, 490 added to validation set, 5 to test set\n",
        "Removed the images added to validation, test set from training set to test its accuracy"
      ]
    },
    {
      "cell_type": "code",
      "execution_count": null,
      "metadata": {
        "trusted": true,
        "id": "mWX62LAQ8S1G",
        "outputId": "e1121082-d105-44c6-960d-b5b0523a3b78"
      },
      "outputs": [
        {
          "name": "stdout",
          "output_type": "stream",
          "text": [
            "                 image label\n",
            "0   Img/img040-030.png     d\n",
            "1   Img/img017-030.png     G\n",
            "2   Img/img022-012.png     L\n",
            "3   Img/img023-038.png     M\n",
            "4   Img/img021-012.png     K\n",
            "5   Img/img019-031.png     I\n",
            "6   Img/img018-053.png     H\n",
            "7   Img/img053-048.png     q\n",
            "8   Img/img035-016.png     Y\n",
            "9   Img/img017-049.png     G\n",
            "10  Img/img033-011.png     W\n",
            "11  Img/img057-046.png     u\n"
          ]
        }
      ],
      "source": [
        "data_path = r\"C:\\Users\\apu\\Downloads\\Input\"\n",
        "\n",
        "dataset = pandas.read_csv(data_path + '/english.csv')\n",
        "rand = random.sample(range(len(dataset)), 500)\n",
        "validation_set = pandas.DataFrame(dataset.iloc[rand, :].values, columns=['image', 'label'])\n",
        "# remove the added data\n",
        "dataset.drop(rand, inplace=True)\n",
        "\n",
        "rand = random.sample(range(len(validation_set)), 12)\n",
        "test_set = pandas.DataFrame(validation_set.iloc[rand, :].values, columns=['image', 'label'])\n",
        "# remove the added data\n",
        "validation_set.drop(rand, inplace=True)\n",
        "\n",
        "print(test_set)"
      ]
    },
    {
      "cell_type": "markdown",
      "metadata": {
        "id": "p-wE1e4J8S1G"
      },
      "source": [
        "# Data preprocessing\n",
        "Now that the data is split, lets start with preprocessing step\n",
        "\n",
        "Load the images through **flow_from_dataframe** method\n",
        "This method is convinient since the data file (english.csv) contains the image names along with the classification class details"
      ]
    },
    {
      "cell_type": "code",
      "execution_count": null,
      "metadata": {
        "trusted": true,
        "id": "9kQH6ifk8S1G",
        "outputId": "9afd202e-4af6-42ce-82b3-48a93e812ce7"
      },
      "outputs": [
        {
          "name": "stdout",
          "output_type": "stream",
          "text": [
            "Found 2910 validated image filenames belonging to 62 classes.\n",
            "Found 495 validated image filenames belonging to 62 classes.\n",
            "Found 5 validated image filenames belonging to 4 classes.\n"
          ]
        }
      ],
      "source": [
        "train_data_generator = ImageDataGenerator(rescale=1/255, shear_range=0.2, zoom_range=0.2)\n",
        "data_generator = ImageDataGenerator(rescale=1/255)\n",
        "training_data_frame = train_data_generator.flow_from_dataframe(dataframe=dataset, directory=data_path, x_col='image', y_col='label',\n",
        "                                                               target_size=(64, 64), class_mode='categorical')\n",
        "validation_data_frame = data_generator.flow_from_dataframe(dataframe=validation_set, directory=data_path, x_col='image', y_col='label',\n",
        "                                                           target_size=(64, 64), class_mode='categorical')\n",
        "test_data_frame = data_generator.flow_from_dataframe(dataframe=test_set, directory=data_path, x_col='image', y_col='label',\n",
        "                                                     target_size=(64, 64), class_mode='categorical', shuffle=False)"
      ]
    },
    {
      "cell_type": "markdown",
      "metadata": {
        "id": "5kITo_Cw8S1H"
      },
      "source": [
        "# Building the CNN model\n",
        "We are about to build CNN model using libraries provided through **TensorFlow**\n",
        "\n",
        "Code block breakdown:\n",
        "* Create Convolution layer: to read/process the image, one feature or one part at a time\n",
        "* Create Pooling layer: used to reduce the spatial size of convolved image\n",
        "* Create Flattening layer: used to flatten the result, whose output would be the input for the neural network\n",
        "\n",
        "We can create multiple convolution and pooling layer depending upon the need/complexity of the dataset"
      ]
    },
    {
      "cell_type": "code",
      "execution_count": null,
      "metadata": {
        "trusted": true,
        "id": "62p23sUg8S1H"
      },
      "outputs": [],
      "source": [
        "cnn = tf.keras.models.Sequential()\n",
        "\n",
        "# add convolutional and pooling layer\n",
        "cnn.add(tf.keras.layers.Conv2D(filters=30, kernel_size=3, activation='relu', input_shape=[64, 64, 3]))\n",
        "cnn.add(tf.keras.layers.MaxPool2D(pool_size=2, strides=2))\n",
        "\n",
        "cnn.add(tf.keras.layers.Conv2D(filters=30, kernel_size=3, activation='relu'))\n",
        "cnn.add(tf.keras.layers.MaxPool2D(pool_size=2, strides=2))\n",
        "\n",
        "cnn.add(tf.keras.layers.Conv2D(filters=30, kernel_size=3, activation='relu'))\n",
        "cnn.add(tf.keras.layers.MaxPool2D(pool_size=2, strides=2))\n",
        "\n",
        "cnn.add(tf.keras.layers.Flatten())"
      ]
    },
    {
      "cell_type": "markdown",
      "metadata": {
        "id": "KqvUm_3S8S1H"
      },
      "source": [
        "# Building, compiling and training the neural network\n",
        "\n",
        "From the above step we have received the flattened matrix of the images that we processed\n",
        "We are going to feed it to our neural network and train it\n",
        "\n",
        "In this section, created fully connected Neural network aka Dense network, chosen sigmoid function for activation type\n",
        "In below the model will learn from the training set and predicts the data from validation set\n",
        "\n",
        "The model accuracy improves as the epochs iteration progresses"
      ]
    },
    {
      "cell_type": "code",
      "execution_count": null,
      "metadata": {
        "trusted": true,
        "id": "liwXtLQH8S1H",
        "outputId": "52bbaf95-f116-41f1-f1cc-cffa18ed9b8b"
      },
      "outputs": [
        {
          "name": "stdout",
          "output_type": "stream",
          "text": [
            "91/91 [==============================] - 46s 487ms/step - loss: 3.7242 - accuracy: 0.1003 - val_loss: 2.5497 - val_accuracy: 0.3232\n"
          ]
        },
        {
          "data": {
            "text/plain": [
              "<keras.src.callbacks.History at 0x1c1ab2234c0>"
            ]
          },
          "execution_count": 31,
          "metadata": {},
          "output_type": "execute_result"
        }
      ],
      "source": [
        "# add full connection, output layer\n",
        "cnn.add(tf.keras.layers.Dense(units=600, activation='relu'))\n",
        "cnn.add(tf.keras.layers.Dense(units=62, activation='sigmoid'))\n",
        "\n",
        "# compile cnn\n",
        "cnn.compile(optimizer='adam', loss='categorical_crossentropy', metrics=['accuracy'])\n",
        "cnn.fit(x=training_data_frame, validation_data=validation_data_frame, epochs=30)"
      ]
    },
    {
      "cell_type": "markdown",
      "metadata": {
        "id": "DAS0GbuC8S1I"
      },
      "source": [
        "# Predicting the testset images\n",
        "\n",
        "Since the model is trained, lets pass the testset images and see how well our model predicts\n",
        "class_indices function gives us the neural network mapping for our 62 characters\n",
        "\n",
        "The result image's name is the predicted character by our model"
      ]
    },
    {
      "cell_type": "code",
      "execution_count": null,
      "metadata": {
        "trusted": true,
        "id": "t5GqYpgt8S1I",
        "outputId": "05212ab0-417c-4eac-d03f-c3c58bc3eb2d"
      },
      "outputs": [
        {
          "name": "stdout",
          "output_type": "stream",
          "text": [
            "Prediction mapping:  {'0': 0, '1': 1, '2': 2, '3': 3, '4': 4, '5': 5, '6': 6, '7': 7, '8': 8, '9': 9, 'A': 10, 'B': 11, 'C': 12, 'D': 13, 'E': 14, 'F': 15, 'G': 16, 'H': 17, 'I': 18, 'J': 19, 'K': 20, 'L': 21, 'M': 22, 'N': 23, 'O': 24, 'P': 25, 'Q': 26, 'R': 27, 'S': 28, 'T': 29, 'U': 30, 'V': 31, 'W': 32, 'X': 33, 'Y': 34, 'Z': 35, 'a': 36, 'b': 37, 'c': 38, 'd': 39, 'e': 40, 'f': 41, 'g': 42, 'h': 43, 'i': 44, 'j': 45, 'k': 46, 'l': 47, 'm': 48, 'n': 49, 'o': 50, 'p': 51, 'q': 52, 'r': 53, 's': 54, 't': 55, 'u': 56, 'v': 57, 'w': 58, 'x': 59, 'y': 60, 'z': 61}\n",
            "1/1 [==============================] - 0s 162ms/step\n",
            "Max index:  [12, 39, 2, 37, 2]\n"
          ]
        },
        {
          "data": {
            "image/png": "[encoded data removed]",
            "text/plain": [
              "<Figure size 640x480 with 1 Axes>"
            ]
          },
          "metadata": {},
          "output_type": "display_data"
        }
      ],
      "source": [
        "print(\"Prediction mapping: \", training_data_frame.class_indices)\n",
        "pred = cnn.predict(test_data_frame)\n",
        "\n",
        "# switcher shows our network mapping to the prediction\n",
        "switcher = {\n",
        "            0: \"0\", 1: \"1\", 2: \"2\", 3: \"3\", 4: \"4\", 5: \"5\", 6: \"6\", 7: \"7\", 8: \"8\", 9: \"9\", 10: \"A\",\n",
        "            11: \"B\", 12: \"C\", 13: \"D\", 14: \"E\", 15: \"F\", 16: \"G\", 17: \"H\", 18: \"I\", 19: \"J\", 20: \"K\",\n",
        "            21: \"L\", 22: \"M\", 23: \"N\", 24: \"O\", 25: \"P\", 26: \"Q\", 27: \"R\", 28: \"S\", 29: \"T\", 30: \"U\",\n",
        "            31: \"V\", 32: \"W\", 33: \"X\", 34: \"Y\", 35: \"Z\", 36: \"a\", 37: \"b\", 38: \"c\", 39: \"d\", 40: \"e\",\n",
        "            41: \"f\", 42: \"g\", 43: \"h\", 44: \"i\", 45: \"j\", 46: \"k\", 47: \"l\", 48: \"m\", 49: \"n\", 50: \"o\",\n",
        "            51: \"p\", 52: \"q\", 53: \"r\", 54: \"s\", 55: \"t\", 56: \"u\", 57: \"v\", 58: \"w\", 59: \"x\", 60: \"y\",\n",
        "            61: \"z\"}\n",
        "\n",
        "outputDf = pandas.DataFrame(pred)\n",
        "maxIndex = list(outputDf.idxmax(axis=1))\n",
        "print(\"Max index: \", maxIndex)\n",
        "for i in range(len(test_set)):\n",
        "    image = img.imread(data_path + '/' + test_set.at[i, 'image'])\n",
        "    plt.title(switcher.get(maxIndex[i], \"error\"))\n",
        "    plt.imshow(image)\n",
        "    plt.show()"
      ]
    },
    {
      "cell_type": "code",
      "execution_count": null,
      "metadata": {
        "id": "DyxFQnQx8S1I"
      },
      "outputs": [],
      "source": [
        "from sklearn.metrics import roc_curve, auc\n",
        "import matplotlib.pyplot as plt\n",
        "import numpy as np\n",
        "\n",
        "# Function to convert labels to one-hot encoding\n",
        "def convert_to_one_hot(labels, num_classes):\n",
        "    one_hot_labels = np.zeros((len(labels), num_classes))\n",
        "    for i in range(len(labels)):\n",
        "        one_hot_labels[i, labels[i]] = 1\n",
        "    return one_hot_labels\n",
        "\n",
        "# Convert labels to one-hot encoding for training and test sets\n",
        "train_labels_one_hot = convert_to_one_hot(training_data_frame.classes, 62)\n",
        "test_labels_one_hot = convert_to_one_hot(test_data_frame.classes, 62)\n",
        "\n",
        "# Predict probabilities for the test set\n",
        "test_pred_prob = cnn.predict(test_data_frame)\n",
        "\n",
        "# Calculate ROC curve and AUC for each class\n",
        "fpr = dict()\n",
        "tpr = dict()\n",
        "roc_auc = dict()\n",
        "\n",
        "for i in range(62):\n",
        "    fpr[i], tpr[i], _ = roc_curve(test_labels_one_hot[:, i], test_pred_prob[:, i])\n",
        "    roc_auc[i] = auc(fpr[i], tpr[i])\n",
        "\n",
        "# Plot ROC curve for each class\n",
        "plt.figure(figsize=(10, 8))\n",
        "for i in range(62):\n",
        "    plt.plot(fpr[i], tpr[i], label='Class {} (AUC = {:.2f})'.format(i, roc_auc[i]))\n",
        "\n",
        "plt.plot([0, 1], [0, 1], linestyle='--', color='gray', label='Random')\n",
        "plt.xlabel('False Positive Rate')\n",
        "plt.ylabel('True Positive Rate')\n",
        "plt.title('ROC Curve for each class')\n",
        "plt.legend()\n",
        "plt.show()\n"
      ]
    },
    {
      "cell_type": "code",
      "execution_count": null,
      "metadata": {
        "id": "qJbQw1_U8S1I"
      },
      "outputs": [],
      "source": [
        "from sklearn.metrics import roc_curve, auc\n",
        "import matplotlib.pyplot as plt\n",
        "import numpy as np\n",
        "\n",
        "def convert_to_one_hot(labels, num_classes):\n",
        "    one_hot_labels = np.zeros((len(labels), num_classes))\n",
        "    for i in range(len(labels)):\n",
        "        one_hot_labels[i, labels[i]] = 1\n",
        "    return one_hot_labels\n",
        "\n",
        "# Convert labels to one-hot encoding for training and test sets\n",
        "train_labels_one_hot = convert_to_one_hot(training_data_frame.classes, 62)\n",
        "test_labels_one_hot = convert_to_one_hot(test_data_frame.classes, 62)\n",
        "\n",
        "# Predict probabilities for the test set\n",
        "test_pred_prob = cnn.predict(test_data_frame)\n",
        "\n",
        "# Calculate ROC curve and AUC for each class\n",
        "fpr = dict()\n",
        "tpr = dict()\n",
        "roc_auc = dict()\n",
        "\n",
        "plt.figure(figsize=(10, 8))\n",
        "\n",
        "for i in range(62):\n",
        "    fpr[i], tpr[i], _ = roc_curve(test_labels_one_hot[:, i], test_pred_prob[:, i])\n",
        "    roc_auc[i] = auc(fpr[i], tpr[i])\n",
        "\n",
        "    # Plot ROC curve for each class\n",
        "    plt.plot(fpr[i], tpr[i], label=f'Class {i} (AUC = {roc_auc[i]:.2f})')\n",
        "\n",
        "# Plot the random classifier\n",
        "plt.plot([0, 1], [0, 1], linestyle='--', color='gray', label='Random')\n",
        "\n",
        "plt.xlabel('False Positive Rate')\n",
        "plt.ylabel('True Positive Rate')\n",
        "plt.title('ROC Curve for each class')\n",
        "plt.legend()\n",
        "plt.show()\n"
      ]
    }
  ],
  "metadata": {
    "kernelspec": {
      "display_name": "Python 3",
      "language": "python",
      "name": "python3"
    },
    "language_info": {
      "codemirror_mode": {
        "name": "ipython",
        "version": 3
      },
      "file_extension": ".py",
      "mimetype": "text/x-python",
      "name": "python",
      "nbconvert_exporter": "python",
      "pygments_lexer": "ipython3",
      "version": "3.10.11"
    },
    "colab": {
      "provenance": []
    }
  },
  "nbformat": 4,
  "nbformat_minor": 0
}